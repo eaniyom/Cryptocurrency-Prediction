{
 "cells": [
  {
   "cell_type": "markdown",
   "metadata": {},
   "source": [
    "# Cryptocurrency Price Prediction Using Machine Learning Model"
   ]
  },
  {
   "cell_type": "markdown",
   "metadata": {},
   "source": [
    "### Project Outline\n",
    "1. Data Collection\n",
    "   * Cryptocurrency dataset\n",
    "   * Data summary\n",
    "   \n",
    "2.\tData Preparation\n",
    "   * data cleaning\n",
    "   \n",
    "3. Exploratory Data Analysis\n",
    "   * Develop and interpret insights (use plotly)\n",
    "   \n",
    "4. Data Preparation\n",
    "   * Feature Extraction\n",
    "   * data standardization (best method) \n",
    "   * outlier handling \n",
    "  \n",
    "5.\tModel building\n",
    "   * Hybrid Model\n",
    "         * Random Forest\n",
    "         * Logistic Regression\n",
    "         * MLP \n",
    "         * Boosting Algorithms\n",
    "    \n",
    "6.\tPerformance Evaluation\n",
    "    * Accuracy \n",
    "    * RMSE\n",
    "    * MSE\n",
    "    * R2 etc.\n",
    "\n",
    "7. System Design for Development"
   ]
  },
  {
   "cell_type": "markdown",
   "metadata": {},
   "source": [
    "## 1. Data Collection"
   ]
  },
  {
   "cell_type": "code",
   "execution_count": 1,
   "metadata": {},
   "outputs": [],
   "source": [
    "import numpy as np\n",
    "import pandas as pd \n",
    "import matplotlib.pyplot as plt\n",
    "import missingno as msno\n",
    "import seaborn as sns"
   ]
  },
  {
   "cell_type": "code",
   "execution_count": 2,
   "metadata": {},
   "outputs": [],
   "source": [
    "column = ['id', 'name', 'symbol','slug', 'num_market_pairs', 'date_added', 'max_supply', 'circulating_supply', 'total_supply', 'platform_id', 'platform_name', 'platform_symbol', 'platform_slug', 'platform_token_address', 'cmc_rank', 'last_updated', 'price', 'volume_24h', 'percent_change_1h','percent_change_24h', 'percent_change_7d', 'percent_change_30d', 'percent_change_60d','percent_change_90d','market_cap','extracted_time','count']\n",
    "data = pd.read_csv('all_crypto_half_hour.csv', names=column)"
   ]
  },
  {
   "cell_type": "markdown",
   "metadata": {},
   "source": [
    "### Data Summary"
   ]
  },
  {
   "cell_type": "code",
   "execution_count": 3,
   "metadata": {},
   "outputs": [
    {
     "data": {
      "text/plain": [
       "(147500, 27)"
      ]
     },
     "execution_count": 3,
     "metadata": {},
     "output_type": "execute_result"
    }
   ],
   "source": [
    "data.shape"
   ]
  },
  {
   "cell_type": "code",
   "execution_count": 4,
   "metadata": {},
   "outputs": [
    {
     "data": {
      "text/html": [
       "<div>\n",
       "<style scoped>\n",
       "    .dataframe tbody tr th:only-of-type {\n",
       "        vertical-align: middle;\n",
       "    }\n",
       "\n",
       "    .dataframe tbody tr th {\n",
       "        vertical-align: top;\n",
       "    }\n",
       "\n",
       "    .dataframe thead th {\n",
       "        text-align: right;\n",
       "    }\n",
       "</style>\n",
       "<table border=\"1\" class=\"dataframe\">\n",
       "  <thead>\n",
       "    <tr style=\"text-align: right;\">\n",
       "      <th></th>\n",
       "      <th>id</th>\n",
       "      <th>num_market_pairs</th>\n",
       "      <th>max_supply</th>\n",
       "      <th>circulating_supply</th>\n",
       "      <th>total_supply</th>\n",
       "      <th>platform_id</th>\n",
       "      <th>cmc_rank</th>\n",
       "      <th>price</th>\n",
       "      <th>volume_24h</th>\n",
       "      <th>percent_change_1h</th>\n",
       "      <th>percent_change_24h</th>\n",
       "      <th>percent_change_7d</th>\n",
       "      <th>percent_change_30d</th>\n",
       "      <th>percent_change_60d</th>\n",
       "      <th>percent_change_90d</th>\n",
       "      <th>market_cap</th>\n",
       "      <th>count</th>\n",
       "    </tr>\n",
       "  </thead>\n",
       "  <tbody>\n",
       "    <tr>\n",
       "      <th>count</th>\n",
       "      <td>147500.000000</td>\n",
       "      <td>147500.000000</td>\n",
       "      <td>8.864100e+04</td>\n",
       "      <td>1.475000e+05</td>\n",
       "      <td>1.475000e+05</td>\n",
       "      <td>67688.000000</td>\n",
       "      <td>147500.000000</td>\n",
       "      <td>147500.000000</td>\n",
       "      <td>1.475000e+05</td>\n",
       "      <td>147500.000000</td>\n",
       "      <td>147500.000000</td>\n",
       "      <td>147500.000000</td>\n",
       "      <td>147264.000000</td>\n",
       "      <td>146960.000000</td>\n",
       "      <td>146138.000000</td>\n",
       "      <td>1.475000e+05</td>\n",
       "      <td>147500.00000</td>\n",
       "    </tr>\n",
       "    <tr>\n",
       "      <th>mean</th>\n",
       "      <td>3223.271695</td>\n",
       "      <td>437.605186</td>\n",
       "      <td>2.399634e+10</td>\n",
       "      <td>7.744149e+11</td>\n",
       "      <td>1.936577e+12</td>\n",
       "      <td>1240.406246</td>\n",
       "      <td>50.500088</td>\n",
       "      <td>1694.657129</td>\n",
       "      <td>2.526269e+09</td>\n",
       "      <td>0.226897</td>\n",
       "      <td>1.321417</td>\n",
       "      <td>10.416991</td>\n",
       "      <td>84.967811</td>\n",
       "      <td>356.828656</td>\n",
       "      <td>931.441187</td>\n",
       "      <td>1.406936e+10</td>\n",
       "      <td>73749.50000</td>\n",
       "    </tr>\n",
       "    <tr>\n",
       "      <th>std</th>\n",
       "      <td>1968.942139</td>\n",
       "      <td>1618.066034</td>\n",
       "      <td>3.358915e+12</td>\n",
       "      <td>1.726125e+13</td>\n",
       "      <td>4.368224e+13</td>\n",
       "      <td>402.340324</td>\n",
       "      <td>28.866322</td>\n",
       "      <td>7804.158106</td>\n",
       "      <td>4.684698e+10</td>\n",
       "      <td>40.312906</td>\n",
       "      <td>59.668360</td>\n",
       "      <td>114.679009</td>\n",
       "      <td>916.459624</td>\n",
       "      <td>4098.767034</td>\n",
       "      <td>10130.905196</td>\n",
       "      <td>7.797088e+10</td>\n",
       "      <td>42579.72669</td>\n",
       "    </tr>\n",
       "    <tr>\n",
       "      <th>min</th>\n",
       "      <td>1.000000</td>\n",
       "      <td>6.000000</td>\n",
       "      <td>0.000000e+00</td>\n",
       "      <td>1.220869e+04</td>\n",
       "      <td>0.000000e+00</td>\n",
       "      <td>1027.000000</td>\n",
       "      <td>1.000000</td>\n",
       "      <td>0.000002</td>\n",
       "      <td>1.069495e+05</td>\n",
       "      <td>-93.509938</td>\n",
       "      <td>-64.066222</td>\n",
       "      <td>-74.246920</td>\n",
       "      <td>-69.989561</td>\n",
       "      <td>-75.040697</td>\n",
       "      <td>-82.340493</td>\n",
       "      <td>3.314007e+08</td>\n",
       "      <td>0.00000</td>\n",
       "    </tr>\n",
       "    <tr>\n",
       "      <th>25%</th>\n",
       "      <td>1808.000000</td>\n",
       "      <td>51.000000</td>\n",
       "      <td>1.000000e+08</td>\n",
       "      <td>9.434696e+07</td>\n",
       "      <td>1.163133e+08</td>\n",
       "      <td>1027.000000</td>\n",
       "      <td>25.750000</td>\n",
       "      <td>0.707034</td>\n",
       "      <td>8.420353e+07</td>\n",
       "      <td>-0.952336</td>\n",
       "      <td>-3.690386</td>\n",
       "      <td>-6.421068</td>\n",
       "      <td>-1.212164</td>\n",
       "      <td>28.572909</td>\n",
       "      <td>87.004422</td>\n",
       "      <td>1.021076e+09</td>\n",
       "      <td>36874.75000</td>\n",
       "    </tr>\n",
       "    <tr>\n",
       "      <th>50%</th>\n",
       "      <td>2682.000000</td>\n",
       "      <td>115.000000</td>\n",
       "      <td>1.000000e+09</td>\n",
       "      <td>5.600000e+08</td>\n",
       "      <td>1.000000e+09</td>\n",
       "      <td>1027.000000</td>\n",
       "      <td>50.500000</td>\n",
       "      <td>3.574515</td>\n",
       "      <td>2.361194e+08</td>\n",
       "      <td>-0.094281</td>\n",
       "      <td>-0.353498</td>\n",
       "      <td>1.120731</td>\n",
       "      <td>16.769890</td>\n",
       "      <td>88.726261</td>\n",
       "      <td>229.112258</td>\n",
       "      <td>1.731225e+09</td>\n",
       "      <td>73749.50000</td>\n",
       "    </tr>\n",
       "    <tr>\n",
       "      <th>75%</th>\n",
       "      <td>4256.000000</td>\n",
       "      <td>227.000000</td>\n",
       "      <td>9.000000e+09</td>\n",
       "      <td>5.586355e+09</td>\n",
       "      <td>9.000000e+09</td>\n",
       "      <td>1027.000000</td>\n",
       "      <td>75.250000</td>\n",
       "      <td>26.930959</td>\n",
       "      <td>7.440525e+08</td>\n",
       "      <td>0.827192</td>\n",
       "      <td>4.119006</td>\n",
       "      <td>15.213778</td>\n",
       "      <td>62.067034</td>\n",
       "      <td>226.208938</td>\n",
       "      <td>537.374417</td>\n",
       "      <td>4.055476e+09</td>\n",
       "      <td>110624.25000</td>\n",
       "    </tr>\n",
       "    <tr>\n",
       "      <th>max</th>\n",
       "      <td>9436.000000</td>\n",
       "      <td>13521.000000</td>\n",
       "      <td>1.000000e+15</td>\n",
       "      <td>4.868670e+14</td>\n",
       "      <td>1.000000e+15</td>\n",
       "      <td>2502.000000</td>\n",
       "      <td>104.000000</td>\n",
       "      <td>60749.002288</td>\n",
       "      <td>1.300310e+13</td>\n",
       "      <td>8584.693875</td>\n",
       "      <td>8141.373225</td>\n",
       "      <td>14074.879960</td>\n",
       "      <td>54575.463765</td>\n",
       "      <td>248058.842740</td>\n",
       "      <td>471389.964084</td>\n",
       "      <td>8.785128e+11</td>\n",
       "      <td>147499.00000</td>\n",
       "    </tr>\n",
       "  </tbody>\n",
       "</table>\n",
       "</div>"
      ],
      "text/plain": [
       "                  id  num_market_pairs    max_supply  circulating_supply  \\\n",
       "count  147500.000000     147500.000000  8.864100e+04        1.475000e+05   \n",
       "mean     3223.271695        437.605186  2.399634e+10        7.744149e+11   \n",
       "std      1968.942139       1618.066034  3.358915e+12        1.726125e+13   \n",
       "min         1.000000          6.000000  0.000000e+00        1.220869e+04   \n",
       "25%      1808.000000         51.000000  1.000000e+08        9.434696e+07   \n",
       "50%      2682.000000        115.000000  1.000000e+09        5.600000e+08   \n",
       "75%      4256.000000        227.000000  9.000000e+09        5.586355e+09   \n",
       "max      9436.000000      13521.000000  1.000000e+15        4.868670e+14   \n",
       "\n",
       "       total_supply   platform_id       cmc_rank          price    volume_24h  \\\n",
       "count  1.475000e+05  67688.000000  147500.000000  147500.000000  1.475000e+05   \n",
       "mean   1.936577e+12   1240.406246      50.500088    1694.657129  2.526269e+09   \n",
       "std    4.368224e+13    402.340324      28.866322    7804.158106  4.684698e+10   \n",
       "min    0.000000e+00   1027.000000       1.000000       0.000002  1.069495e+05   \n",
       "25%    1.163133e+08   1027.000000      25.750000       0.707034  8.420353e+07   \n",
       "50%    1.000000e+09   1027.000000      50.500000       3.574515  2.361194e+08   \n",
       "75%    9.000000e+09   1027.000000      75.250000      26.930959  7.440525e+08   \n",
       "max    1.000000e+15   2502.000000     104.000000   60749.002288  1.300310e+13   \n",
       "\n",
       "       percent_change_1h  percent_change_24h  percent_change_7d  \\\n",
       "count      147500.000000       147500.000000      147500.000000   \n",
       "mean            0.226897            1.321417          10.416991   \n",
       "std            40.312906           59.668360         114.679009   \n",
       "min           -93.509938          -64.066222         -74.246920   \n",
       "25%            -0.952336           -3.690386          -6.421068   \n",
       "50%            -0.094281           -0.353498           1.120731   \n",
       "75%             0.827192            4.119006          15.213778   \n",
       "max          8584.693875         8141.373225       14074.879960   \n",
       "\n",
       "       percent_change_30d  percent_change_60d  percent_change_90d  \\\n",
       "count       147264.000000       146960.000000       146138.000000   \n",
       "mean            84.967811          356.828656          931.441187   \n",
       "std            916.459624         4098.767034        10130.905196   \n",
       "min            -69.989561          -75.040697          -82.340493   \n",
       "25%             -1.212164           28.572909           87.004422   \n",
       "50%             16.769890           88.726261          229.112258   \n",
       "75%             62.067034          226.208938          537.374417   \n",
       "max          54575.463765       248058.842740       471389.964084   \n",
       "\n",
       "         market_cap         count  \n",
       "count  1.475000e+05  147500.00000  \n",
       "mean   1.406936e+10   73749.50000  \n",
       "std    7.797088e+10   42579.72669  \n",
       "min    3.314007e+08       0.00000  \n",
       "25%    1.021076e+09   36874.75000  \n",
       "50%    1.731225e+09   73749.50000  \n",
       "75%    4.055476e+09  110624.25000  \n",
       "max    8.785128e+11  147499.00000  "
      ]
     },
     "execution_count": 4,
     "metadata": {},
     "output_type": "execute_result"
    }
   ],
   "source": [
    "data.describe()"
   ]
  },
  {
   "cell_type": "markdown",
   "metadata": {},
   "source": [
    "## Feature Selection"
   ]
  },
  {
   "cell_type": "code",
   "execution_count": 5,
   "metadata": {},
   "outputs": [],
   "source": [
    "df = data[['name', 'last_updated', 'num_market_pairs', 'total_supply', 'cmc_rank', 'market_cap', \n",
    "           'percent_change_1h', 'percent_change_24h','percent_change_7d', \n",
    "           'percent_change_30d', 'percent_change_60d','percent_change_90d']]"
   ]
  },
  {
   "cell_type": "code",
   "execution_count": 6,
   "metadata": {
    "scrolled": true
   },
   "outputs": [
    {
     "data": {
      "text/html": [
       "<div>\n",
       "<style scoped>\n",
       "    .dataframe tbody tr th:only-of-type {\n",
       "        vertical-align: middle;\n",
       "    }\n",
       "\n",
       "    .dataframe tbody tr th {\n",
       "        vertical-align: top;\n",
       "    }\n",
       "\n",
       "    .dataframe thead th {\n",
       "        text-align: right;\n",
       "    }\n",
       "</style>\n",
       "<table border=\"1\" class=\"dataframe\">\n",
       "  <thead>\n",
       "    <tr style=\"text-align: right;\">\n",
       "      <th></th>\n",
       "      <th>name</th>\n",
       "      <th>last_updated</th>\n",
       "      <th>num_market_pairs</th>\n",
       "      <th>total_supply</th>\n",
       "      <th>cmc_rank</th>\n",
       "      <th>market_cap</th>\n",
       "      <th>percent_change_1h</th>\n",
       "      <th>percent_change_24h</th>\n",
       "      <th>percent_change_7d</th>\n",
       "      <th>percent_change_30d</th>\n",
       "      <th>percent_change_60d</th>\n",
       "      <th>percent_change_90d</th>\n",
       "    </tr>\n",
       "  </thead>\n",
       "  <tbody>\n",
       "    <tr>\n",
       "      <th>0</th>\n",
       "      <td>Bitcoin</td>\n",
       "      <td>2021-03-18T19:56:04.000Z</td>\n",
       "      <td>9873</td>\n",
       "      <td>1.865743e+07</td>\n",
       "      <td>1</td>\n",
       "      <td>7.723507e+11</td>\n",
       "      <td>-3.107614</td>\n",
       "      <td>-0.291386</td>\n",
       "      <td>-2.153760</td>\n",
       "      <td>18.438645</td>\n",
       "      <td>61.139199</td>\n",
       "      <td>152.875961</td>\n",
       "    </tr>\n",
       "    <tr>\n",
       "      <th>1</th>\n",
       "      <td>Ethereum</td>\n",
       "      <td>2021-03-18T19:56:02.000Z</td>\n",
       "      <td>6233</td>\n",
       "      <td>1.151035e+08</td>\n",
       "      <td>2</td>\n",
       "      <td>1.464554e+11</td>\n",
       "      <td>-2.833473</td>\n",
       "      <td>-3.302048</td>\n",
       "      <td>-4.479624</td>\n",
       "      <td>0.640296</td>\n",
       "      <td>44.125517</td>\n",
       "      <td>174.312956</td>\n",
       "    </tr>\n",
       "    <tr>\n",
       "      <th>2</th>\n",
       "      <td>Cardano</td>\n",
       "      <td>2021-03-18T19:55:18.000Z</td>\n",
       "      <td>259</td>\n",
       "      <td>4.500000e+10</td>\n",
       "      <td>3</td>\n",
       "      <td>2.883309e+10</td>\n",
       "      <td>-1.816408</td>\n",
       "      <td>-0.164829</td>\n",
       "      <td>9.395966</td>\n",
       "      <td>43.959893</td>\n",
       "      <td>231.059643</td>\n",
       "      <td>669.445435</td>\n",
       "    </tr>\n",
       "    <tr>\n",
       "      <th>3</th>\n",
       "      <td>Binance Coin</td>\n",
       "      <td>2021-03-18T19:55:13.000Z</td>\n",
       "      <td>601</td>\n",
       "      <td>1.705328e+08</td>\n",
       "      <td>4</td>\n",
       "      <td>2.878574e+10</td>\n",
       "      <td>-2.034368</td>\n",
       "      <td>-1.271910</td>\n",
       "      <td>-13.629409</td>\n",
       "      <td>100.113801</td>\n",
       "      <td>484.769191</td>\n",
       "      <td>746.765119</td>\n",
       "    </tr>\n",
       "    <tr>\n",
       "      <th>4</th>\n",
       "      <td>Tether</td>\n",
       "      <td>2021-03-18T19:55:15.000Z</td>\n",
       "      <td>11498</td>\n",
       "      <td>4.063634e+10</td>\n",
       "      <td>5</td>\n",
       "      <td>2.794155e+10</td>\n",
       "      <td>-0.052728</td>\n",
       "      <td>-0.565062</td>\n",
       "      <td>-2.366472</td>\n",
       "      <td>0.038261</td>\n",
       "      <td>0.039952</td>\n",
       "      <td>0.026013</td>\n",
       "    </tr>\n",
       "  </tbody>\n",
       "</table>\n",
       "</div>"
      ],
      "text/plain": [
       "           name              last_updated  num_market_pairs  total_supply  \\\n",
       "0       Bitcoin  2021-03-18T19:56:04.000Z              9873  1.865743e+07   \n",
       "1      Ethereum  2021-03-18T19:56:02.000Z              6233  1.151035e+08   \n",
       "2       Cardano  2021-03-18T19:55:18.000Z               259  4.500000e+10   \n",
       "3  Binance Coin  2021-03-18T19:55:13.000Z               601  1.705328e+08   \n",
       "4        Tether  2021-03-18T19:55:15.000Z             11498  4.063634e+10   \n",
       "\n",
       "   cmc_rank    market_cap  percent_change_1h  percent_change_24h  \\\n",
       "0         1  7.723507e+11          -3.107614           -0.291386   \n",
       "1         2  1.464554e+11          -2.833473           -3.302048   \n",
       "2         3  2.883309e+10          -1.816408           -0.164829   \n",
       "3         4  2.878574e+10          -2.034368           -1.271910   \n",
       "4         5  2.794155e+10          -0.052728           -0.565062   \n",
       "\n",
       "   percent_change_7d  percent_change_30d  percent_change_60d  \\\n",
       "0          -2.153760           18.438645           61.139199   \n",
       "1          -4.479624            0.640296           44.125517   \n",
       "2           9.395966           43.959893          231.059643   \n",
       "3         -13.629409          100.113801          484.769191   \n",
       "4          -2.366472            0.038261            0.039952   \n",
       "\n",
       "   percent_change_90d  \n",
       "0          152.875961  \n",
       "1          174.312956  \n",
       "2          669.445435  \n",
       "3          746.765119  \n",
       "4            0.026013  "
      ]
     },
     "execution_count": 6,
     "metadata": {},
     "output_type": "execute_result"
    }
   ],
   "source": [
    "df.head()"
   ]
  },
  {
   "cell_type": "markdown",
   "metadata": {},
   "source": [
    "## Separation of Date and Timestep"
   ]
  },
  {
   "cell_type": "code",
   "execution_count": 7,
   "metadata": {
    "scrolled": true
   },
   "outputs": [
    {
     "name": "stderr",
     "output_type": "stream",
     "text": [
      "C:\\ProgramData\\Anaconda3\\lib\\site-packages\\ipykernel_launcher.py:2: SettingWithCopyWarning: \n",
      "A value is trying to be set on a copy of a slice from a DataFrame.\n",
      "Try using .loc[row_indexer,col_indexer] = value instead\n",
      "\n",
      "See the caveats in the documentation: http://pandas.pydata.org/pandas-docs/stable/indexing.html#indexing-view-versus-copy\n",
      "  \n"
     ]
    }
   ],
   "source": [
    "df_sep = pd.DataFrame(df.last_updated.str.split('T',1).tolist(), columns = ['last_date','timestep'])\n",
    "df['last_date'] = df_sep['last_date'].tolist()\n",
    "df = df.drop('last_updated', axis=1)"
   ]
  },
  {
   "cell_type": "code",
   "execution_count": 8,
   "metadata": {},
   "outputs": [],
   "source": [
    "# adding price\n",
    "df['price'] = data['price'].tolist()"
   ]
  },
  {
   "cell_type": "code",
   "execution_count": 9,
   "metadata": {},
   "outputs": [
    {
     "data": {
      "text/html": [
       "<div>\n",
       "<style scoped>\n",
       "    .dataframe tbody tr th:only-of-type {\n",
       "        vertical-align: middle;\n",
       "    }\n",
       "\n",
       "    .dataframe tbody tr th {\n",
       "        vertical-align: top;\n",
       "    }\n",
       "\n",
       "    .dataframe thead th {\n",
       "        text-align: right;\n",
       "    }\n",
       "</style>\n",
       "<table border=\"1\" class=\"dataframe\">\n",
       "  <thead>\n",
       "    <tr style=\"text-align: right;\">\n",
       "      <th></th>\n",
       "      <th>name</th>\n",
       "      <th>num_market_pairs</th>\n",
       "      <th>total_supply</th>\n",
       "      <th>cmc_rank</th>\n",
       "      <th>market_cap</th>\n",
       "      <th>percent_change_1h</th>\n",
       "      <th>percent_change_24h</th>\n",
       "      <th>percent_change_7d</th>\n",
       "      <th>percent_change_30d</th>\n",
       "      <th>percent_change_60d</th>\n",
       "      <th>percent_change_90d</th>\n",
       "      <th>last_date</th>\n",
       "      <th>price</th>\n",
       "    </tr>\n",
       "  </thead>\n",
       "  <tbody>\n",
       "    <tr>\n",
       "      <th>0</th>\n",
       "      <td>Bitcoin</td>\n",
       "      <td>9873</td>\n",
       "      <td>1.865743e+07</td>\n",
       "      <td>1</td>\n",
       "      <td>7.723507e+11</td>\n",
       "      <td>-3.107614</td>\n",
       "      <td>-0.291386</td>\n",
       "      <td>-2.153760</td>\n",
       "      <td>18.438645</td>\n",
       "      <td>61.139199</td>\n",
       "      <td>152.875961</td>\n",
       "      <td>2021-03-18</td>\n",
       "      <td>41396.411103</td>\n",
       "    </tr>\n",
       "    <tr>\n",
       "      <th>1</th>\n",
       "      <td>Ethereum</td>\n",
       "      <td>6233</td>\n",
       "      <td>1.151035e+08</td>\n",
       "      <td>2</td>\n",
       "      <td>1.464554e+11</td>\n",
       "      <td>-2.833473</td>\n",
       "      <td>-3.302048</td>\n",
       "      <td>-4.479624</td>\n",
       "      <td>0.640296</td>\n",
       "      <td>44.125517</td>\n",
       "      <td>174.312956</td>\n",
       "      <td>2021-03-18</td>\n",
       "      <td>1272.380724</td>\n",
       "    </tr>\n",
       "    <tr>\n",
       "      <th>2</th>\n",
       "      <td>Cardano</td>\n",
       "      <td>259</td>\n",
       "      <td>4.500000e+10</td>\n",
       "      <td>3</td>\n",
       "      <td>2.883309e+10</td>\n",
       "      <td>-1.816408</td>\n",
       "      <td>-0.164829</td>\n",
       "      <td>9.395966</td>\n",
       "      <td>43.959893</td>\n",
       "      <td>231.059643</td>\n",
       "      <td>669.445435</td>\n",
       "      <td>2021-03-18</td>\n",
       "      <td>0.902492</td>\n",
       "    </tr>\n",
       "    <tr>\n",
       "      <th>3</th>\n",
       "      <td>Binance Coin</td>\n",
       "      <td>601</td>\n",
       "      <td>1.705328e+08</td>\n",
       "      <td>4</td>\n",
       "      <td>2.878574e+10</td>\n",
       "      <td>-2.034368</td>\n",
       "      <td>-1.271910</td>\n",
       "      <td>-13.629409</td>\n",
       "      <td>100.113801</td>\n",
       "      <td>484.769191</td>\n",
       "      <td>746.765119</td>\n",
       "      <td>2021-03-18</td>\n",
       "      <td>186.275926</td>\n",
       "    </tr>\n",
       "    <tr>\n",
       "      <th>4</th>\n",
       "      <td>Tether</td>\n",
       "      <td>11498</td>\n",
       "      <td>4.063634e+10</td>\n",
       "      <td>5</td>\n",
       "      <td>2.794155e+10</td>\n",
       "      <td>-0.052728</td>\n",
       "      <td>-0.565062</td>\n",
       "      <td>-2.366472</td>\n",
       "      <td>0.038261</td>\n",
       "      <td>0.039952</td>\n",
       "      <td>0.026013</td>\n",
       "      <td>2021-03-18</td>\n",
       "      <td>0.718866</td>\n",
       "    </tr>\n",
       "  </tbody>\n",
       "</table>\n",
       "</div>"
      ],
      "text/plain": [
       "           name  num_market_pairs  total_supply  cmc_rank    market_cap  \\\n",
       "0       Bitcoin              9873  1.865743e+07         1  7.723507e+11   \n",
       "1      Ethereum              6233  1.151035e+08         2  1.464554e+11   \n",
       "2       Cardano               259  4.500000e+10         3  2.883309e+10   \n",
       "3  Binance Coin               601  1.705328e+08         4  2.878574e+10   \n",
       "4        Tether             11498  4.063634e+10         5  2.794155e+10   \n",
       "\n",
       "   percent_change_1h  percent_change_24h  percent_change_7d  \\\n",
       "0          -3.107614           -0.291386          -2.153760   \n",
       "1          -2.833473           -3.302048          -4.479624   \n",
       "2          -1.816408           -0.164829           9.395966   \n",
       "3          -2.034368           -1.271910         -13.629409   \n",
       "4          -0.052728           -0.565062          -2.366472   \n",
       "\n",
       "   percent_change_30d  percent_change_60d  percent_change_90d   last_date  \\\n",
       "0           18.438645           61.139199          152.875961  2021-03-18   \n",
       "1            0.640296           44.125517          174.312956  2021-03-18   \n",
       "2           43.959893          231.059643          669.445435  2021-03-18   \n",
       "3          100.113801          484.769191          746.765119  2021-03-18   \n",
       "4            0.038261            0.039952            0.026013  2021-03-18   \n",
       "\n",
       "          price  \n",
       "0  41396.411103  \n",
       "1   1272.380724  \n",
       "2      0.902492  \n",
       "3    186.275926  \n",
       "4      0.718866  "
      ]
     },
     "execution_count": 9,
     "metadata": {},
     "output_type": "execute_result"
    }
   ],
   "source": [
    "df.head()"
   ]
  },
  {
   "cell_type": "code",
   "execution_count": 10,
   "metadata": {},
   "outputs": [
    {
     "data": {
      "text/plain": [
       "(147500, 13)"
      ]
     },
     "execution_count": 10,
     "metadata": {},
     "output_type": "execute_result"
    }
   ],
   "source": [
    "df.shape"
   ]
  },
  {
   "cell_type": "code",
   "execution_count": 11,
   "metadata": {},
   "outputs": [
    {
     "data": {
      "image/png": "[encoded data removed]",
      "text/plain": [
       "<Figure size 1440x720 with 2 Axes>"
      ]
     },
     "metadata": {
      "needs_background": "light"
     },
     "output_type": "display_data"
    }
   ],
   "source": [
    "# make a correlation plot (heatmap)\n",
    "corr_mx = df.corr()\n",
    "f, ax = plt.subplots(figsize=(20,10)) \n",
    "ax = sns.heatmap(corr_mx, annot=True, annot_kws={'size':12}, cmap='Blues_r')"
   ]
  },
  {
   "cell_type": "markdown",
   "metadata": {},
   "source": [
    "### Data Cleaning"
   ]
  },
  {
   "cell_type": "code",
   "execution_count": 12,
   "metadata": {
    "scrolled": false
   },
   "outputs": [
    {
     "data": {
      "text/plain": [
       "name                     0\n",
       "num_market_pairs         0\n",
       "total_supply             0\n",
       "cmc_rank                 0\n",
       "market_cap               0\n",
       "percent_change_1h        0\n",
       "percent_change_24h       0\n",
       "percent_change_7d        0\n",
       "percent_change_30d     236\n",
       "percent_change_60d     540\n",
       "percent_change_90d    1362\n",
       "last_date                0\n",
       "price                    0\n",
       "dtype: int64"
      ]
     },
     "execution_count": 12,
     "metadata": {},
     "output_type": "execute_result"
    }
   ],
   "source": [
    "df.isnull().sum()"
   ]
  },
  {
   "cell_type": "code",
   "execution_count": 13,
   "metadata": {},
   "outputs": [
    {
     "data": {
      "text/plain": [
       "139"
      ]
     },
     "execution_count": 13,
     "metadata": {},
     "output_type": "execute_result"
    }
   ],
   "source": [
    "df['name'].nunique()"
   ]
  },
  {
   "cell_type": "code",
   "execution_count": 15,
   "metadata": {},
   "outputs": [],
   "source": [
    "df_clean = df.fillna(df.mean())"
   ]
  },
  {
   "cell_type": "code",
   "execution_count": 16,
   "metadata": {},
   "outputs": [
    {
     "data": {
      "text/plain": [
       "(147500, 13)"
      ]
     },
     "execution_count": 16,
     "metadata": {},
     "output_type": "execute_result"
    }
   ],
   "source": [
    "df_clean.shape"
   ]
  },
  {
   "cell_type": "code",
   "execution_count": 17,
   "metadata": {},
   "outputs": [
    {
     "data": {
      "text/plain": [
       "name                  0\n",
       "num_market_pairs      0\n",
       "total_supply          0\n",
       "cmc_rank              0\n",
       "market_cap            0\n",
       "percent_change_1h     0\n",
       "percent_change_24h    0\n",
       "percent_change_7d     0\n",
       "percent_change_30d    0\n",
       "percent_change_60d    0\n",
       "percent_change_90d    0\n",
       "last_date             0\n",
       "price                 0\n",
       "dtype: int64"
      ]
     },
     "execution_count": 17,
     "metadata": {},
     "output_type": "execute_result"
    }
   ],
   "source": [
    "df_clean.isnull().sum()"
   ]
  },
  {
   "cell_type": "code",
   "execution_count": 18,
   "metadata": {},
   "outputs": [
    {
     "data": {
      "text/plain": [
       "139"
      ]
     },
     "execution_count": 18,
     "metadata": {},
     "output_type": "execute_result"
    }
   ],
   "source": [
    "df_clean['name'].nunique()"
   ]
  },
  {
   "cell_type": "code",
   "execution_count": 19,
   "metadata": {},
   "outputs": [
    {
     "data": {
      "text/html": [
       "<div>\n",
       "<style scoped>\n",
       "    .dataframe tbody tr th:only-of-type {\n",
       "        vertical-align: middle;\n",
       "    }\n",
       "\n",
       "    .dataframe tbody tr th {\n",
       "        vertical-align: top;\n",
       "    }\n",
       "\n",
       "    .dataframe thead th {\n",
       "        text-align: right;\n",
       "    }\n",
       "</style>\n",
       "<table border=\"1\" class=\"dataframe\">\n",
       "  <thead>\n",
       "    <tr style=\"text-align: right;\">\n",
       "      <th></th>\n",
       "      <th>name</th>\n",
       "      <th>num_market_pairs</th>\n",
       "      <th>total_supply</th>\n",
       "      <th>cmc_rank</th>\n",
       "      <th>market_cap</th>\n",
       "      <th>percent_change_1h</th>\n",
       "      <th>percent_change_24h</th>\n",
       "      <th>percent_change_7d</th>\n",
       "      <th>percent_change_30d</th>\n",
       "      <th>percent_change_60d</th>\n",
       "      <th>percent_change_90d</th>\n",
       "      <th>last_date</th>\n",
       "      <th>price</th>\n",
       "    </tr>\n",
       "  </thead>\n",
       "  <tbody>\n",
       "    <tr>\n",
       "      <th>0</th>\n",
       "      <td>Bitcoin</td>\n",
       "      <td>9873</td>\n",
       "      <td>1.865743e+07</td>\n",
       "      <td>1</td>\n",
       "      <td>7.723507e+11</td>\n",
       "      <td>-3.107614</td>\n",
       "      <td>-0.291386</td>\n",
       "      <td>-2.153760</td>\n",
       "      <td>18.438645</td>\n",
       "      <td>61.139199</td>\n",
       "      <td>152.875961</td>\n",
       "      <td>2021-03-18</td>\n",
       "      <td>41396.411103</td>\n",
       "    </tr>\n",
       "    <tr>\n",
       "      <th>1</th>\n",
       "      <td>Ethereum</td>\n",
       "      <td>6233</td>\n",
       "      <td>1.151035e+08</td>\n",
       "      <td>2</td>\n",
       "      <td>1.464554e+11</td>\n",
       "      <td>-2.833473</td>\n",
       "      <td>-3.302048</td>\n",
       "      <td>-4.479624</td>\n",
       "      <td>0.640296</td>\n",
       "      <td>44.125517</td>\n",
       "      <td>174.312956</td>\n",
       "      <td>2021-03-18</td>\n",
       "      <td>1272.380724</td>\n",
       "    </tr>\n",
       "    <tr>\n",
       "      <th>2</th>\n",
       "      <td>Cardano</td>\n",
       "      <td>259</td>\n",
       "      <td>4.500000e+10</td>\n",
       "      <td>3</td>\n",
       "      <td>2.883309e+10</td>\n",
       "      <td>-1.816408</td>\n",
       "      <td>-0.164829</td>\n",
       "      <td>9.395966</td>\n",
       "      <td>43.959893</td>\n",
       "      <td>231.059643</td>\n",
       "      <td>669.445435</td>\n",
       "      <td>2021-03-18</td>\n",
       "      <td>0.902492</td>\n",
       "    </tr>\n",
       "    <tr>\n",
       "      <th>3</th>\n",
       "      <td>Binance Coin</td>\n",
       "      <td>601</td>\n",
       "      <td>1.705328e+08</td>\n",
       "      <td>4</td>\n",
       "      <td>2.878574e+10</td>\n",
       "      <td>-2.034368</td>\n",
       "      <td>-1.271910</td>\n",
       "      <td>-13.629409</td>\n",
       "      <td>100.113801</td>\n",
       "      <td>484.769191</td>\n",
       "      <td>746.765119</td>\n",
       "      <td>2021-03-18</td>\n",
       "      <td>186.275926</td>\n",
       "    </tr>\n",
       "    <tr>\n",
       "      <th>4</th>\n",
       "      <td>Tether</td>\n",
       "      <td>11498</td>\n",
       "      <td>4.063634e+10</td>\n",
       "      <td>5</td>\n",
       "      <td>2.794155e+10</td>\n",
       "      <td>-0.052728</td>\n",
       "      <td>-0.565062</td>\n",
       "      <td>-2.366472</td>\n",
       "      <td>0.038261</td>\n",
       "      <td>0.039952</td>\n",
       "      <td>0.026013</td>\n",
       "      <td>2021-03-18</td>\n",
       "      <td>0.718866</td>\n",
       "    </tr>\n",
       "  </tbody>\n",
       "</table>\n",
       "</div>"
      ],
      "text/plain": [
       "           name  num_market_pairs  total_supply  cmc_rank    market_cap  \\\n",
       "0       Bitcoin              9873  1.865743e+07         1  7.723507e+11   \n",
       "1      Ethereum              6233  1.151035e+08         2  1.464554e+11   \n",
       "2       Cardano               259  4.500000e+10         3  2.883309e+10   \n",
       "3  Binance Coin               601  1.705328e+08         4  2.878574e+10   \n",
       "4        Tether             11498  4.063634e+10         5  2.794155e+10   \n",
       "\n",
       "   percent_change_1h  percent_change_24h  percent_change_7d  \\\n",
       "0          -3.107614           -0.291386          -2.153760   \n",
       "1          -2.833473           -3.302048          -4.479624   \n",
       "2          -1.816408           -0.164829           9.395966   \n",
       "3          -2.034368           -1.271910         -13.629409   \n",
       "4          -0.052728           -0.565062          -2.366472   \n",
       "\n",
       "   percent_change_30d  percent_change_60d  percent_change_90d   last_date  \\\n",
       "0           18.438645           61.139199          152.875961  2021-03-18   \n",
       "1            0.640296           44.125517          174.312956  2021-03-18   \n",
       "2           43.959893          231.059643          669.445435  2021-03-18   \n",
       "3          100.113801          484.769191          746.765119  2021-03-18   \n",
       "4            0.038261            0.039952            0.026013  2021-03-18   \n",
       "\n",
       "          price  \n",
       "0  41396.411103  \n",
       "1   1272.380724  \n",
       "2      0.902492  \n",
       "3    186.275926  \n",
       "4      0.718866  "
      ]
     },
     "execution_count": 19,
     "metadata": {},
     "output_type": "execute_result"
    }
   ],
   "source": [
    "df_clean.head()"
   ]
  },
  {
   "cell_type": "markdown",
   "metadata": {},
   "source": [
    "## Label Encoding"
   ]
  },
  {
   "cell_type": "code",
   "execution_count": 20,
   "metadata": {},
   "outputs": [],
   "source": [
    "X = df_clean.iloc[:,:-1]\n",
    "\n",
    "# ordinal encode input variables\n",
    "from sklearn.preprocessing import OrdinalEncoder\n",
    "ordinal = OrdinalEncoder()\n",
    "X_ord = ordinal.fit_transform(X[['name', 'last_date']])\n",
    "\n",
    "ddf = pd.DataFrame(X_ord, columns=['names', 'last_dates'])\n",
    "\n",
    "X['names'] = ddf.iloc[:, :-1].values\n",
    "X['last_dates'] = ddf.iloc[:, -1:].values\n",
    "\n",
    "X.drop(['name', 'last_date'], axis=1, inplace=True)"
   ]
  },
  {
   "cell_type": "code",
   "execution_count": 21,
   "metadata": {},
   "outputs": [
    {
     "data": {
      "text/html": [
       "<div>\n",
       "<style scoped>\n",
       "    .dataframe tbody tr th:only-of-type {\n",
       "        vertical-align: middle;\n",
       "    }\n",
       "\n",
       "    .dataframe tbody tr th {\n",
       "        vertical-align: top;\n",
       "    }\n",
       "\n",
       "    .dataframe thead th {\n",
       "        text-align: right;\n",
       "    }\n",
       "</style>\n",
       "<table border=\"1\" class=\"dataframe\">\n",
       "  <thead>\n",
       "    <tr style=\"text-align: right;\">\n",
       "      <th></th>\n",
       "      <th>num_market_pairs</th>\n",
       "      <th>total_supply</th>\n",
       "      <th>cmc_rank</th>\n",
       "      <th>market_cap</th>\n",
       "      <th>percent_change_1h</th>\n",
       "      <th>percent_change_24h</th>\n",
       "      <th>percent_change_7d</th>\n",
       "      <th>percent_change_30d</th>\n",
       "      <th>percent_change_60d</th>\n",
       "      <th>percent_change_90d</th>\n",
       "      <th>names</th>\n",
       "      <th>last_dates</th>\n",
       "    </tr>\n",
       "  </thead>\n",
       "  <tbody>\n",
       "    <tr>\n",
       "      <th>0</th>\n",
       "      <td>9873</td>\n",
       "      <td>1.865743e+07</td>\n",
       "      <td>1</td>\n",
       "      <td>7.723507e+11</td>\n",
       "      <td>-3.107614</td>\n",
       "      <td>-0.291386</td>\n",
       "      <td>-2.153760</td>\n",
       "      <td>18.438645</td>\n",
       "      <td>61.139199</td>\n",
       "      <td>152.875961</td>\n",
       "      <td>15.0</td>\n",
       "      <td>0.0</td>\n",
       "    </tr>\n",
       "    <tr>\n",
       "      <th>1</th>\n",
       "      <td>6233</td>\n",
       "      <td>1.151035e+08</td>\n",
       "      <td>2</td>\n",
       "      <td>1.464554e+11</td>\n",
       "      <td>-2.833473</td>\n",
       "      <td>-3.302048</td>\n",
       "      <td>-4.479624</td>\n",
       "      <td>0.640296</td>\n",
       "      <td>44.125517</td>\n",
       "      <td>174.312956</td>\n",
       "      <td>45.0</td>\n",
       "      <td>0.0</td>\n",
       "    </tr>\n",
       "    <tr>\n",
       "      <th>2</th>\n",
       "      <td>259</td>\n",
       "      <td>4.500000e+10</td>\n",
       "      <td>3</td>\n",
       "      <td>2.883309e+10</td>\n",
       "      <td>-1.816408</td>\n",
       "      <td>-0.164829</td>\n",
       "      <td>9.395966</td>\n",
       "      <td>43.959893</td>\n",
       "      <td>231.059643</td>\n",
       "      <td>669.445435</td>\n",
       "      <td>22.0</td>\n",
       "      <td>0.0</td>\n",
       "    </tr>\n",
       "    <tr>\n",
       "      <th>3</th>\n",
       "      <td>601</td>\n",
       "      <td>1.705328e+08</td>\n",
       "      <td>4</td>\n",
       "      <td>2.878574e+10</td>\n",
       "      <td>-2.034368</td>\n",
       "      <td>-1.271910</td>\n",
       "      <td>-13.629409</td>\n",
       "      <td>100.113801</td>\n",
       "      <td>484.769191</td>\n",
       "      <td>746.765119</td>\n",
       "      <td>12.0</td>\n",
       "      <td>0.0</td>\n",
       "    </tr>\n",
       "    <tr>\n",
       "      <th>4</th>\n",
       "      <td>11498</td>\n",
       "      <td>4.063634e+10</td>\n",
       "      <td>5</td>\n",
       "      <td>2.794155e+10</td>\n",
       "      <td>-0.052728</td>\n",
       "      <td>-0.565062</td>\n",
       "      <td>-2.366472</td>\n",
       "      <td>0.038261</td>\n",
       "      <td>0.039952</td>\n",
       "      <td>0.026013</td>\n",
       "      <td>114.0</td>\n",
       "      <td>0.0</td>\n",
       "    </tr>\n",
       "  </tbody>\n",
       "</table>\n",
       "</div>"
      ],
      "text/plain": [
       "   num_market_pairs  total_supply  cmc_rank    market_cap  percent_change_1h  \\\n",
       "0              9873  1.865743e+07         1  7.723507e+11          -3.107614   \n",
       "1              6233  1.151035e+08         2  1.464554e+11          -2.833473   \n",
       "2               259  4.500000e+10         3  2.883309e+10          -1.816408   \n",
       "3               601  1.705328e+08         4  2.878574e+10          -2.034368   \n",
       "4             11498  4.063634e+10         5  2.794155e+10          -0.052728   \n",
       "\n",
       "   percent_change_24h  percent_change_7d  percent_change_30d  \\\n",
       "0           -0.291386          -2.153760           18.438645   \n",
       "1           -3.302048          -4.479624            0.640296   \n",
       "2           -0.164829           9.395966           43.959893   \n",
       "3           -1.271910         -13.629409          100.113801   \n",
       "4           -0.565062          -2.366472            0.038261   \n",
       "\n",
       "   percent_change_60d  percent_change_90d  names  last_dates  \n",
       "0           61.139199          152.875961   15.0         0.0  \n",
       "1           44.125517          174.312956   45.0         0.0  \n",
       "2          231.059643          669.445435   22.0         0.0  \n",
       "3          484.769191          746.765119   12.0         0.0  \n",
       "4            0.039952            0.026013  114.0         0.0  "
      ]
     },
     "execution_count": 21,
     "metadata": {},
     "output_type": "execute_result"
    }
   ],
   "source": [
    "X.head()"
   ]
  },
  {
   "cell_type": "markdown",
   "metadata": {},
   "source": [
    "## Feature Scaling"
   ]
  },
  {
   "cell_type": "code",
   "execution_count": 22,
   "metadata": {},
   "outputs": [],
   "source": [
    "from sklearn.preprocessing import StandardScaler\n",
    "trans = StandardScaler()\n",
    "X_std = trans.fit_transform(X)"
   ]
  },
  {
   "cell_type": "code",
   "execution_count": 23,
   "metadata": {
    "scrolled": false
   },
   "outputs": [
    {
     "data": {
      "text/html": [
       "<div>\n",
       "<style scoped>\n",
       "    .dataframe tbody tr th:only-of-type {\n",
       "        vertical-align: middle;\n",
       "    }\n",
       "\n",
       "    .dataframe tbody tr th {\n",
       "        vertical-align: top;\n",
       "    }\n",
       "\n",
       "    .dataframe thead th {\n",
       "        text-align: right;\n",
       "    }\n",
       "</style>\n",
       "<table border=\"1\" class=\"dataframe\">\n",
       "  <thead>\n",
       "    <tr style=\"text-align: right;\">\n",
       "      <th></th>\n",
       "      <th>price</th>\n",
       "    </tr>\n",
       "  </thead>\n",
       "  <tbody>\n",
       "    <tr>\n",
       "      <th>0</th>\n",
       "      <td>10.630949</td>\n",
       "    </tr>\n",
       "    <tr>\n",
       "      <th>1</th>\n",
       "      <td>7.148645</td>\n",
       "    </tr>\n",
       "    <tr>\n",
       "      <th>2</th>\n",
       "      <td>-0.102596</td>\n",
       "    </tr>\n",
       "    <tr>\n",
       "      <th>3</th>\n",
       "      <td>5.227229</td>\n",
       "    </tr>\n",
       "    <tr>\n",
       "      <th>4</th>\n",
       "      <td>-0.330080</td>\n",
       "    </tr>\n",
       "    <tr>\n",
       "      <th>5</th>\n",
       "      <td>3.245019</td>\n",
       "    </tr>\n",
       "    <tr>\n",
       "      <th>6</th>\n",
       "      <td>-1.074969</td>\n",
       "    </tr>\n",
       "    <tr>\n",
       "      <th>7</th>\n",
       "      <td>3.064941</td>\n",
       "    </tr>\n",
       "    <tr>\n",
       "      <th>8</th>\n",
       "      <td>4.972040</td>\n",
       "    </tr>\n",
       "    <tr>\n",
       "      <th>9</th>\n",
       "      <td>3.042810</td>\n",
       "    </tr>\n",
       "    <tr>\n",
       "      <th>10</th>\n",
       "      <td>5.936527</td>\n",
       "    </tr>\n",
       "    <tr>\n",
       "      <th>11</th>\n",
       "      <td>-0.329895</td>\n",
       "    </tr>\n",
       "    <tr>\n",
       "      <th>12</th>\n",
       "      <td>-1.251653</td>\n",
       "    </tr>\n",
       "    <tr>\n",
       "      <th>13</th>\n",
       "      <td>1.758684</td>\n",
       "    </tr>\n",
       "    <tr>\n",
       "      <th>14</th>\n",
       "      <td>10.633087</td>\n",
       "    </tr>\n",
       "    <tr>\n",
       "      <th>15</th>\n",
       "      <td>-3.193660</td>\n",
       "    </tr>\n",
       "    <tr>\n",
       "      <th>16</th>\n",
       "      <td>2.580770</td>\n",
       "    </tr>\n",
       "    <tr>\n",
       "      <th>17</th>\n",
       "      <td>-1.835188</td>\n",
       "    </tr>\n",
       "    <tr>\n",
       "      <th>18</th>\n",
       "      <td>-2.893712</td>\n",
       "    </tr>\n",
       "    <tr>\n",
       "      <th>19</th>\n",
       "      <td>2.790817</td>\n",
       "    </tr>\n",
       "    <tr>\n",
       "      <th>20</th>\n",
       "      <td>5.563784</td>\n",
       "    </tr>\n",
       "    <tr>\n",
       "      <th>21</th>\n",
       "      <td>4.009669</td>\n",
       "    </tr>\n",
       "    <tr>\n",
       "      <th>22</th>\n",
       "      <td>3.176788</td>\n",
       "    </tr>\n",
       "    <tr>\n",
       "      <th>23</th>\n",
       "      <td>5.108320</td>\n",
       "    </tr>\n",
       "    <tr>\n",
       "      <th>24</th>\n",
       "      <td>1.093435</td>\n",
       "    </tr>\n",
       "    <tr>\n",
       "      <th>25</th>\n",
       "      <td>2.333309</td>\n",
       "    </tr>\n",
       "    <tr>\n",
       "      <th>26</th>\n",
       "      <td>-3.261050</td>\n",
       "    </tr>\n",
       "    <tr>\n",
       "      <th>27</th>\n",
       "      <td>3.347905</td>\n",
       "    </tr>\n",
       "    <tr>\n",
       "      <th>28</th>\n",
       "      <td>-0.044494</td>\n",
       "    </tr>\n",
       "    <tr>\n",
       "      <th>29</th>\n",
       "      <td>4.951420</td>\n",
       "    </tr>\n",
       "    <tr>\n",
       "      <th>...</th>\n",
       "      <td>...</td>\n",
       "    </tr>\n",
       "    <tr>\n",
       "      <th>147470</th>\n",
       "      <td>2.387426</td>\n",
       "    </tr>\n",
       "    <tr>\n",
       "      <th>147471</th>\n",
       "      <td>4.365082</td>\n",
       "    </tr>\n",
       "    <tr>\n",
       "      <th>147472</th>\n",
       "      <td>-0.544756</td>\n",
       "    </tr>\n",
       "    <tr>\n",
       "      <th>147473</th>\n",
       "      <td>0.427051</td>\n",
       "    </tr>\n",
       "    <tr>\n",
       "      <th>147474</th>\n",
       "      <td>2.156159</td>\n",
       "    </tr>\n",
       "    <tr>\n",
       "      <th>147475</th>\n",
       "      <td>-0.330533</td>\n",
       "    </tr>\n",
       "    <tr>\n",
       "      <th>147476</th>\n",
       "      <td>-0.348640</td>\n",
       "    </tr>\n",
       "    <tr>\n",
       "      <th>147477</th>\n",
       "      <td>-2.566164</td>\n",
       "    </tr>\n",
       "    <tr>\n",
       "      <th>147478</th>\n",
       "      <td>-0.495884</td>\n",
       "    </tr>\n",
       "    <tr>\n",
       "      <th>147479</th>\n",
       "      <td>3.759232</td>\n",
       "    </tr>\n",
       "    <tr>\n",
       "      <th>147480</th>\n",
       "      <td>-2.949323</td>\n",
       "    </tr>\n",
       "    <tr>\n",
       "      <th>147481</th>\n",
       "      <td>2.525181</td>\n",
       "    </tr>\n",
       "    <tr>\n",
       "      <th>147482</th>\n",
       "      <td>0.519471</td>\n",
       "    </tr>\n",
       "    <tr>\n",
       "      <th>147483</th>\n",
       "      <td>-4.761001</td>\n",
       "    </tr>\n",
       "    <tr>\n",
       "      <th>147484</th>\n",
       "      <td>1.112987</td>\n",
       "    </tr>\n",
       "    <tr>\n",
       "      <th>147485</th>\n",
       "      <td>-0.147361</td>\n",
       "    </tr>\n",
       "    <tr>\n",
       "      <th>147486</th>\n",
       "      <td>1.679096</td>\n",
       "    </tr>\n",
       "    <tr>\n",
       "      <th>147487</th>\n",
       "      <td>-0.196543</td>\n",
       "    </tr>\n",
       "    <tr>\n",
       "      <th>147488</th>\n",
       "      <td>1.226242</td>\n",
       "    </tr>\n",
       "    <tr>\n",
       "      <th>147489</th>\n",
       "      <td>-1.327982</td>\n",
       "    </tr>\n",
       "    <tr>\n",
       "      <th>147490</th>\n",
       "      <td>1.557226</td>\n",
       "    </tr>\n",
       "    <tr>\n",
       "      <th>147491</th>\n",
       "      <td>2.324428</td>\n",
       "    </tr>\n",
       "    <tr>\n",
       "      <th>147492</th>\n",
       "      <td>0.557077</td>\n",
       "    </tr>\n",
       "    <tr>\n",
       "      <th>147493</th>\n",
       "      <td>-4.368919</td>\n",
       "    </tr>\n",
       "    <tr>\n",
       "      <th>147494</th>\n",
       "      <td>0.898607</td>\n",
       "    </tr>\n",
       "    <tr>\n",
       "      <th>147495</th>\n",
       "      <td>-0.526245</td>\n",
       "    </tr>\n",
       "    <tr>\n",
       "      <th>147496</th>\n",
       "      <td>-0.115843</td>\n",
       "    </tr>\n",
       "    <tr>\n",
       "      <th>147497</th>\n",
       "      <td>-2.538823</td>\n",
       "    </tr>\n",
       "    <tr>\n",
       "      <th>147498</th>\n",
       "      <td>-0.348511</td>\n",
       "    </tr>\n",
       "    <tr>\n",
       "      <th>147499</th>\n",
       "      <td>-2.781100</td>\n",
       "    </tr>\n",
       "  </tbody>\n",
       "</table>\n",
       "<p>147500 rows × 1 columns</p>\n",
       "</div>"
      ],
      "text/plain": [
       "            price\n",
       "0       10.630949\n",
       "1        7.148645\n",
       "2       -0.102596\n",
       "3        5.227229\n",
       "4       -0.330080\n",
       "5        3.245019\n",
       "6       -1.074969\n",
       "7        3.064941\n",
       "8        4.972040\n",
       "9        3.042810\n",
       "10       5.936527\n",
       "11      -0.329895\n",
       "12      -1.251653\n",
       "13       1.758684\n",
       "14      10.633087\n",
       "15      -3.193660\n",
       "16       2.580770\n",
       "17      -1.835188\n",
       "18      -2.893712\n",
       "19       2.790817\n",
       "20       5.563784\n",
       "21       4.009669\n",
       "22       3.176788\n",
       "23       5.108320\n",
       "24       1.093435\n",
       "25       2.333309\n",
       "26      -3.261050\n",
       "27       3.347905\n",
       "28      -0.044494\n",
       "29       4.951420\n",
       "...           ...\n",
       "147470   2.387426\n",
       "147471   4.365082\n",
       "147472  -0.544756\n",
       "147473   0.427051\n",
       "147474   2.156159\n",
       "147475  -0.330533\n",
       "147476  -0.348640\n",
       "147477  -2.566164\n",
       "147478  -0.495884\n",
       "147479   3.759232\n",
       "147480  -2.949323\n",
       "147481   2.525181\n",
       "147482   0.519471\n",
       "147483  -4.761001\n",
       "147484   1.112987\n",
       "147485  -0.147361\n",
       "147486   1.679096\n",
       "147487  -0.196543\n",
       "147488   1.226242\n",
       "147489  -1.327982\n",
       "147490   1.557226\n",
       "147491   2.324428\n",
       "147492   0.557077\n",
       "147493  -4.368919\n",
       "147494   0.898607\n",
       "147495  -0.526245\n",
       "147496  -0.115843\n",
       "147497  -2.538823\n",
       "147498  -0.348511\n",
       "147499  -2.781100\n",
       "\n",
       "[147500 rows x 1 columns]"
      ]
     },
     "execution_count": 23,
     "metadata": {},
     "output_type": "execute_result"
    }
   ],
   "source": [
    "y = np.log(df.iloc[:,-1:])\n",
    "y"
   ]
  },
  {
   "cell_type": "code",
   "execution_count": null,
   "metadata": {},
   "outputs": [],
   "source": []
  },
  {
   "cell_type": "markdown",
   "metadata": {},
   "source": [
    "## Model Building Codes\n",
    "\n",
    "#### Hybrid Model\n",
    "         * Random Forest\n",
    "         * Logistic Regression\n",
    "         * MLP \n",
    "         * Boosting Algorithms"
   ]
  },
  {
   "cell_type": "code",
   "execution_count": 24,
   "metadata": {},
   "outputs": [],
   "source": [
    "# split data into train and validation data\n",
    "from sklearn.model_selection import train_test_split\n",
    "\n",
    "X_train, X_test, y_train, y_test = train_test_split(X_std, y, test_size=0.2, random_state=42)"
   ]
  },
  {
   "cell_type": "markdown",
   "metadata": {},
   "source": [
    "## Model 1"
   ]
  },
  {
   "cell_type": "code",
   "execution_count": 25,
   "metadata": {
    "scrolled": false
   },
   "outputs": [
    {
     "name": "stderr",
     "output_type": "stream",
     "text": [
      "C:\\ProgramData\\Anaconda3\\lib\\site-packages\\ipykernel_launcher.py:7: DataConversionWarning: A column-vector y was passed when a 1d array was expected. Please change the shape of y to (n_samples,), for example using ravel().\n",
      "  import sys\n"
     ]
    },
    {
     "name": "stdout",
     "output_type": "stream",
     "text": [
      "MAE: 0.002325050824405825\n",
      "MSE: 0.00018518509528297764\n",
      "RMSE: 0.013608273045577005\n",
      "R2_score: 0.9999845986068546\n",
      "__________________________________________\n",
      "\n",
      "Accuracy on train data: 0.9999911170933959\n",
      "Accuracy on test data: 0.9999845986068546\n"
     ]
    }
   ],
   "source": [
    "from sklearn.ensemble import RandomForestRegressor\n",
    "from sklearn import metrics\n",
    "from sklearn.metrics import r2_score\n",
    "\n",
    "rfr_model = RandomForestRegressor() \n",
    "\n",
    "rfr_model.fit(X_train, y_train)\n",
    "\n",
    "y_pred_rfr = rfr_model.predict(X_test)\n",
    "\n",
    "print('MAE: {}'.format(metrics.mean_absolute_error(y_test, y_pred_rfr)))\n",
    "print('MSE: {}'.format(metrics.mean_squared_error(y_test, y_pred_rfr)))\n",
    "print('RMSE: {}'.format(np.sqrt(metrics.mean_squared_error(y_test, y_pred_rfr))))\n",
    "print('R2_score: {}'.format(r2_score(y_test, y_pred_rfr)))\n",
    "print('__________________________________________\\n')\n",
    "print('Accuracy on train data: {}'.format(rfr_model.score(X_train, y_train)))\n",
    "print('Accuracy on test data: {}'.format(rfr_model.score(X_test, y_test)))"
   ]
  },
  {
   "cell_type": "code",
   "execution_count": 26,
   "metadata": {},
   "outputs": [
    {
     "data": {
      "text/plain": [
       "(29500, 1)"
      ]
     },
     "execution_count": 26,
     "metadata": {},
     "output_type": "execute_result"
    }
   ],
   "source": [
    "y_test.shape"
   ]
  },
  {
   "cell_type": "code",
   "execution_count": 38,
   "metadata": {},
   "outputs": [
    {
     "data": {
      "text/plain": [
       "(1, 29500)"
      ]
     },
     "execution_count": 38,
     "metadata": {},
     "output_type": "execute_result"
    }
   ],
   "source": [
    "x.shape"
   ]
  },
  {
   "cell_type": "code",
   "execution_count": 39,
   "metadata": {},
   "outputs": [
    {
     "data": {
      "text/plain": [
       "array([[    0],\n",
       "       [    1],\n",
       "       [    2],\n",
       "       ...,\n",
       "       [29497],\n",
       "       [29498],\n",
       "       [29499]])"
      ]
     },
     "execution_count": 39,
     "metadata": {},
     "output_type": "execute_result"
    }
   ],
   "source": [
    "x.reshape(29500, 1)"
   ]
  },
  {
   "cell_type": "code",
   "execution_count": 42,
   "metadata": {},
   "outputs": [
    {
     "data": {
      "text/plain": [
       "(1, 29500)"
      ]
     },
     "execution_count": 42,
     "metadata": {},
     "output_type": "execute_result"
    }
   ],
   "source": [
    "x.shape"
   ]
  },
  {
   "cell_type": "code",
   "execution_count": 37,
   "metadata": {},
   "outputs": [
    {
     "data": {
      "text/plain": [
       "(29500,)"
      ]
     },
     "execution_count": 37,
     "metadata": {},
     "output_type": "execute_result"
    }
   ],
   "source": [
    "y_pred_rfr.shape"
   ]
  },
  {
   "cell_type": "code",
   "execution_count": 43,
   "metadata": {},
   "outputs": [
    {
     "data": {
      "text/plain": [
       "Text(0.5, 1.0, 'Randon Forest')"
      ]
     },
     "execution_count": 43,
     "metadata": {},
     "output_type": "execute_result"
    },
    {
     "data": {
      "image/png": "[encoded data removed]",
      "text/plain": [
       "<Figure size 432x288 with 1 Axes>"
      ]
     },
     "metadata": {
      "needs_background": "light"
     },
     "output_type": "display_data"
    }
   ],
   "source": [
    "np.random.seed(0)\n",
    "x = np.array([i for i in range(29500)]).reshape(y_test.shape)\n",
    "t = np.array([i for i in range(29500)]).reshape(y_pred_rfr.shape)\n",
    "\n",
    "\n",
    "plt.plot(x, y_test, color=\"#E7E76F\", label=\"data\")\n",
    "plt.plot(t, y_pred_rfr, color=\"#1A243C\", label=\"prediction\")\n",
    "plt.axis(\"tight\")\n",
    "plt.legend()\n",
    "plt.title(\"Randon Forest\")\n"
   ]
  },
  {
   "cell_type": "code",
   "execution_count": 58,
   "metadata": {},
   "outputs": [
    {
     "data": {
      "text/plain": [
       "(29500, 1)"
      ]
     },
     "execution_count": 58,
     "metadata": {},
     "output_type": "execute_result"
    }
   ],
   "source": [
    "y_test.shape"
   ]
  },
  {
   "cell_type": "code",
   "execution_count": 44,
   "metadata": {},
   "outputs": [
    {
     "data": {
      "image/png": "[encoded data removed]",
      "text/plain": [
       "<Figure size 720x720 with 1 Axes>"
      ]
     },
     "metadata": {
      "needs_background": "light"
     },
     "output_type": "display_data"
    }
   ],
   "source": [
    "# Output of predicted values against Actual values.\n",
    "plt.figure(figsize=(10, 10))\n",
    "plt.axis([0, 29500, 00, 29500])\n",
    "plt.scatter(y_test, y_pred_rfr, color='#4CB5F5')\n",
    "plt.plot([0, 29500], [0, 29500], color='black', linewidth=2, linestyle='--')\n",
    "plt.ylabel('Predicted Values', fontsize=15)\n",
    "plt.xlabel('Actual Values', fontsize=15)\n",
    "plt.title(f'Random Forest Regressor Test, with R2_score= {round(r2_score(y_test, y_pred_rfr), 8)}', fontsize=15)\n",
    "plt.show()"
   ]
  },
  {
   "cell_type": "code",
   "execution_count": null,
   "metadata": {},
   "outputs": [],
   "source": []
  },
  {
   "cell_type": "markdown",
   "metadata": {},
   "source": [
    "## Model 2"
   ]
  },
  {
   "cell_type": "code",
   "execution_count": 45,
   "metadata": {},
   "outputs": [
    {
     "name": "stdout",
     "output_type": "stream",
     "text": [
      "MAE: 0.024669109199796913\n",
      "MSE: 0.04452261236176046\n",
      "RMSE: 0.21100382072787321\n",
      "R2_score: 0.9962971628154221\n",
      "__________________________________________\n",
      "\n",
      "Accuracy on train data: 0.9977884055855019\n",
      "Accuracy on test data: 0.9962971628154221\n"
     ]
    }
   ],
   "source": [
    "from sklearn.neighbors import KNeighborsRegressor\n",
    "knr_model = KNeighborsRegressor()\n",
    "knr_model.fit(X_train, y_train)\n",
    "\n",
    "y_pred_knr = knr_model.predict(X_test)\n",
    "\n",
    "print('MAE: {}'.format(metrics.mean_absolute_error(y_test, y_pred_knr)))\n",
    "print('MSE: {}'.format(metrics.mean_squared_error(y_test, y_pred_knr)))\n",
    "print('RMSE: {}'.format(np.sqrt(metrics.mean_squared_error(y_test, y_pred_knr))))\n",
    "print('R2_score: {}'.format(r2_score(y_test, y_pred_knr)))\n",
    "print('__________________________________________\\n')\n",
    "print('Accuracy on train data: {}'.format(knr_model.score(X_train, y_train)))\n",
    "print('Accuracy on test data: {}'.format(knr_model.score(X_test, y_test)))"
   ]
  },
  {
   "cell_type": "code",
   "execution_count": 46,
   "metadata": {},
   "outputs": [
    {
     "data": {
      "image/png": "[encoded data removed]",
      "text/plain": [
       "<Figure size 720x720 with 1 Axes>"
      ]
     },
     "metadata": {
      "needs_background": "light"
     },
     "output_type": "display_data"
    }
   ],
   "source": [
    "# Output of predicted values against Actual values.\n",
    "plt.figure(figsize=(10, 10))\n",
    "plt.axis([0, 29500, 00, 29500])\n",
    "plt.scatter(y_test, y_pred_knr, color='#4CB5F5')\n",
    "plt.plot([0, 29500], [0, 29500], color='black', linewidth=2, linestyle='--')\n",
    "plt.ylabel('Predicted Values', fontsize=15)\n",
    "plt.xlabel('Actual Values', fontsize=15)\n",
    "plt.title(f'KNeighbors Regressor Test, with R2_score= {round(r2_score(y_test, y_pred_knr), 8)}', fontsize=15)\n",
    "plt.show()"
   ]
  },
  {
   "cell_type": "code",
   "execution_count": 47,
   "metadata": {},
   "outputs": [],
   "source": [
    "# pip install xgboost"
   ]
  },
  {
   "cell_type": "markdown",
   "metadata": {},
   "source": [
    "## Model 3"
   ]
  },
  {
   "cell_type": "code",
   "execution_count": 48,
   "metadata": {
    "scrolled": false
   },
   "outputs": [
    {
     "name": "stdout",
     "output_type": "stream",
     "text": [
      "MAE: 0.025994274835451105\n",
      "MSE: 0.001425599430577366\n",
      "RMSE: 0.037757110993524995\n",
      "R2_score: 0.9998814363690306\n",
      "__________________________________________\n",
      "\n",
      "Accuracy on train data: 0.9999011191621506\n",
      "Accuracy on test data: 0.9998814363690306\n"
     ]
    }
   ],
   "source": [
    "# Logistic Regression\n",
    "# Boosting Algorithm (AdaBoostRegressor)\n",
    "\n",
    "from xgboost import XGBRegressor\n",
    "xgbr_model = XGBRegressor(random_state = 0)\n",
    "xgbr_model.fit(X_train, y_train)\n",
    "\n",
    "y_pred_xgbr = xgbr_model.predict(X_test)\n",
    "\n",
    "print('MAE: {}'.format(metrics.mean_absolute_error(y_test, y_pred_xgbr)))\n",
    "print('MSE: {}'.format(metrics.mean_squared_error(y_test, y_pred_xgbr)))\n",
    "print('RMSE: {}'.format(np.sqrt(metrics.mean_squared_error(y_test, y_pred_xgbr))))\n",
    "print('R2_score: {}'.format(r2_score(y_test, y_pred_xgbr)))\n",
    "print('__________________________________________\\n')\n",
    "print('Accuracy on train data: {}'.format(xgbr_model.score(X_train, y_train)))\n",
    "print('Accuracy on test data: {}'.format(xgbr_model.score(X_test, y_test)))"
   ]
  },
  {
   "cell_type": "code",
   "execution_count": 52,
   "metadata": {},
   "outputs": [
    {
     "ename": "SyntaxError",
     "evalue": "invalid syntax (<ipython-input-52-a499ae3720cc>, line 5)",
     "output_type": "error",
     "traceback": [
      "\u001b[1;36m  File \u001b[1;32m\"<ipython-input-52-a499ae3720cc>\"\u001b[1;36m, line \u001b[1;32m5\u001b[0m\n\u001b[1;33m    plt.plot([0, 29500],y_test color='black', linewidth=2, linestyle='--')\u001b[0m\n\u001b[1;37m                                   ^\u001b[0m\n\u001b[1;31mSyntaxError\u001b[0m\u001b[1;31m:\u001b[0m invalid syntax\n"
     ]
    }
   ],
   "source": [
    "# Output of predicted values against Actual values.\n",
    "plt.figure(figsize=(10, 10))\n",
    "plt.axis([0, 29500, 00, 29500])\n",
    "plt.scatter([0, 29500], y_pred_xgbr, color='#4CB5F5')\n",
    "plt.plot([0, 29500],y_test color='black', linewidth=2, linestyle='--')\n",
    "plt.ylabel('Predicted Values', fontsize=15)\n",
    "plt.xlabel('Actual Values', fontsize=15)\n",
    "plt.title(f'XG Boost Regressor Test, with R2_score= {round(r2_score(y_test, y_pred_xgbr), 8)}', fontsize=15)\n",
    "plt.show()"
   ]
  },
  {
   "cell_type": "markdown",
   "metadata": {},
   "source": [
    "## Model 4"
   ]
  },
  {
   "cell_type": "code",
   "execution_count": 53,
   "metadata": {},
   "outputs": [
    {
     "name": "stderr",
     "output_type": "stream",
     "text": [
      "C:\\Users\\EBEN\\AppData\\Roaming\\Python\\Python37\\site-packages\\sklearn\\utils\\validation.py:63: DataConversionWarning: A column-vector y was passed when a 1d array was expected. Please change the shape of y to (n_samples, ), for example using ravel().\n",
      "  return f(*args, **kwargs)\n"
     ]
    },
    {
     "name": "stdout",
     "output_type": "stream",
     "text": [
      "MAE: 0.2174129989777301\n",
      "MSE: 0.09693451346400403\n",
      "RMSE: 0.3113430800001889\n",
      "R2_score: 0.9919381927096498\n",
      "__________________________________________\n",
      "\n",
      "Accuracy on train data: 0.9920935294278282\n",
      "Accuracy on test data: 0.9919381927096498\n"
     ]
    }
   ],
   "source": [
    "from sklearn.ensemble import GradientBoostingRegressor\n",
    "gbr_model = GradientBoostingRegressor(random_state = 0)\n",
    "gbr_model.fit(X_train, y_train)\n",
    "\n",
    "y_pred_gbr = gbr_model.predict(X_test)\n",
    "\n",
    "print('MAE: {}'.format(metrics.mean_absolute_error(y_test, y_pred_gbr)))\n",
    "print('MSE: {}'.format(metrics.mean_squared_error(y_test, y_pred_gbr)))\n",
    "print('RMSE: {}'.format(np.sqrt(metrics.mean_squared_error(y_test, y_pred_gbr))))\n",
    "print('R2_score: {}'.format(r2_score(y_test, y_pred_gbr)))\n",
    "print('__________________________________________\\n')\n",
    "print('Accuracy on train data: {}'.format(gbr_model.score(X_train, y_train)))\n",
    "print('Accuracy on test data: {}'.format(gbr_model.score(X_test, y_test)))"
   ]
  },
  {
   "cell_type": "code",
   "execution_count": 54,
   "metadata": {},
   "outputs": [
    {
     "data": {
      "image/png": "[encoded data removed]",
      "text/plain": [
       "<Figure size 720x720 with 1 Axes>"
      ]
     },
     "metadata": {
      "needs_background": "light"
     },
     "output_type": "display_data"
    }
   ],
   "source": [
    "# Output of predicted values against Actual values.\n",
    "plt.figure(figsize=(10, 10))\n",
    "plt.axis([0, 29500, 00, 29500])\n",
    "plt.scatter(y_test, y_pred_gbr, color='#4CB5F5')\n",
    "plt.plot([0, 29500], [0, 29500], color='black', linewidth=2, linestyle='--')\n",
    "plt.ylabel('Predicted Values', fontsize=15)\n",
    "plt.xlabel('Actual Values', fontsize=15)\n",
    "plt.title(f'Gradient Boost Regressor Test, with R2_score= {round(r2_score(y_test, y_pred_gbr), 8)}', fontsize=15)\n",
    "plt.show()"
   ]
  },
  {
   "cell_type": "markdown",
   "metadata": {},
   "source": [
    "## Hybrid Model: Voting Regressor\n",
    "\n",
    "The idea behind the VotingRegressor is to combine conceptually different machine learning regressors and return the average predicted values. Such a regressor can be useful for a set of equally well performing models in order to balance out their individual weaknesses."
   ]
  },
  {
   "cell_type": "code",
   "execution_count": 55,
   "metadata": {},
   "outputs": [
    {
     "name": "stderr",
     "output_type": "stream",
     "text": [
      "C:\\Users\\EBEN\\AppData\\Roaming\\Python\\Python37\\site-packages\\sklearn\\utils\\validation.py:63: DataConversionWarning: A column-vector y was passed when a 1d array was expected. Please change the shape of y to (n_samples, ), for example using ravel().\n",
      "  return f(*args, **kwargs)\n"
     ]
    },
    {
     "name": "stdout",
     "output_type": "stream",
     "text": [
      "MAE: 0.059376889549999916\n",
      "MSE: 0.009414123252407543\n",
      "RMSE: 0.09702640492364717\n",
      "R2_score: 0.9992170503079205\n",
      "__________________________________________\n",
      "\n",
      "Accuracy on train data: 0.9993335748259592\n",
      "Accuracy on test data: 0.9992170503079205\n"
     ]
    }
   ],
   "source": [
    "from sklearn.ensemble import VotingRegressor\n",
    "from sklearn.ensemble import RandomForestRegressor\n",
    "from sklearn.neighbors import KNeighborsRegressor\n",
    "\n",
    "# Training classifiers\n",
    "reg1 = RandomForestRegressor() \n",
    "reg2 = KNeighborsRegressor()\n",
    "reg3 = XGBRegressor(random_state = 0)\n",
    "reg4 = GradientBoostingRegressor(random_state = 0)\n",
    "\n",
    "ereg = VotingRegressor(estimators=[('rf', reg1), ('kn', reg2), ('xg', reg3), ('gb', reg4)])\n",
    "ereg = ereg.fit(X_train, y_train)\n",
    "\n",
    "y_pred_vr = ereg.predict(X_test)\n",
    "\n",
    "print('MAE: {}'.format(metrics.mean_absolute_error(y_test, y_pred_vr)))\n",
    "print('MSE: {}'.format(metrics.mean_squared_error(y_test, y_pred_vr)))\n",
    "print('RMSE: {}'.format(np.sqrt(metrics.mean_squared_error(y_test, y_pred_vr))))\n",
    "print('R2_score: {}'.format(r2_score(y_test, y_pred_vr)))\n",
    "print('__________________________________________\\n')\n",
    "print('Accuracy on train data: {}'.format(ereg.score(X_train, y_train)))\n",
    "print('Accuracy on test data: {}'.format(ereg.score(X_test, y_test)))"
   ]
  },
  {
   "cell_type": "code",
   "execution_count": 56,
   "metadata": {},
   "outputs": [
    {
     "data": {
      "image/png": "[encoded data removed]",
      "text/plain": [
       "<Figure size 720x720 with 1 Axes>"
      ]
     },
     "metadata": {
      "needs_background": "light"
     },
     "output_type": "display_data"
    }
   ],
   "source": [
    "# Output of predicted values against Actual values.\n",
    "plt.figure(figsize=(10, 10))\n",
    "plt.axis([0, 29500, 00, 29500])\n",
    "plt.scatter(y_test, y_pred_vr, color='#4CB5F5')\n",
    "plt.plot([0, 29500], [0, 29500], color='black', linewidth=2, linestyle='--')\n",
    "plt.ylabel('Predicted Values', fontsize=15)\n",
    "plt.xlabel('Actual Values', fontsize=15)\n",
    "plt.title(f'Voting Regressor Test, with R2_score= {round(r2_score(y_test, y_pred_vr), 8)}', fontsize=15)\n",
    "plt.show()"
   ]
  },
  {
   "cell_type": "code",
   "execution_count": 59,
   "metadata": {},
   "outputs": [
    {
     "data": {
      "image/png": "[encoded data removed]",
      "text/plain": [
       "<Figure size 1080x720 with 1 Axes>"
      ]
     },
     "metadata": {
      "needs_background": "light"
     },
     "output_type": "display_data"
    }
   ],
   "source": [
    "# Percentage Error plot\n",
    "Model = ['Random Forest Regressor', 'KNeighbors Regressor', 'XGBoost Regressor', 'GBoost Regressor', 'Voting Regressor']\n",
    "MAE = [metrics.mean_absolute_error(y_test, y_pred_rfr), metrics.mean_absolute_error(y_test, y_pred_knr), \n",
    "       metrics.mean_absolute_error(y_test, y_pred_xgbr), metrics.mean_absolute_error(y_test, y_pred_gbr),\n",
    "       metrics.mean_absolute_error(y_test, y_pred_vr)]\n",
    "MSE = [metrics.mean_squared_error(y_test, y_pred_rfr), metrics.mean_squared_error(y_test, y_pred_knr), \n",
    "       metrics.mean_squared_error(y_test, y_pred_xgbr), metrics.mean_squared_error(y_test, y_pred_gbr), \n",
    "       metrics.mean_squared_error(y_test, y_pred_vr)]\n",
    "RMSE = [np.sqrt(metrics.mean_squared_error(y_test, y_pred_rfr)), np.sqrt(metrics.mean_squared_error(y_test, y_pred_knr)), \n",
    "       np.sqrt(metrics.mean_squared_error(y_test, y_pred_xgbr)), np.sqrt(metrics.mean_squared_error(y_test, y_pred_gbr)), \n",
    "       np.sqrt(metrics.mean_squared_error(y_test, y_pred_vr))]\n",
    "\n",
    "n = 5\n",
    "r = np.arange(n)\n",
    "width = 0.25\n",
    "plt.figure(figsize=(15, 10))\n",
    "plt.bar(r, MAE, color = '#4C5DED', width=width, edgecolor = 'black', label = 'Mean Absolute Error')\n",
    "plt.bar(r+width, MSE, color = '#F5ED42', width=width, edgecolor = 'black', label = 'Mean squared Error')\n",
    "plt.bar(r+width*2, RMSE, color = '#1A243C', width=width, edgecolor = 'black', label = 'Root Mean Squared Error')\n",
    "\n",
    "plt.xlabel('Models Used for Prediction', fontsize=15)\n",
    "plt.ylabel('Percentage Error', fontsize=15)\n",
    "plt.title('Percentage Error Plots', fontsize=15)\n",
    "\n",
    "plt.tick_params(axis='x', labelrotation=45)\n",
    "plt.xticks(r+width/2, Model)\n",
    "plt.legend()\n",
    "  \n",
    "plt.show()"
   ]
  },
  {
   "cell_type": "code",
   "execution_count": 60,
   "metadata": {},
   "outputs": [
    {
     "data": {
      "image/png": "[encoded data removed]",
      "text/plain": [
       "<Figure size 720x576 with 1 Axes>"
      ]
     },
     "metadata": {
      "needs_background": "light"
     },
     "output_type": "display_data"
    }
   ],
   "source": [
    "# plots for Accuracy Score\n",
    "\n",
    "Accuracy = [rfr_model.score(X_test, y_test), knr_model.score(X_test, y_test), xgbr_model.score(X_test, y_test),\n",
    "            gbr_model.score(X_test, y_test), ereg.score(X_test, y_test),]\n",
    "\n",
    "R2_score = [r2_score(y_test, y_pred_rfr), r2_score(y_test, y_pred_knr), r2_score(y_test, y_pred_xgbr),\n",
    "           r2_score(y_test, y_pred_gbr), r2_score(y_test, y_pred_vr)]\n",
    "\n",
    "n = 5\n",
    "r = np.arange(n)\n",
    "width = 0.25\n",
    "plt.figure(figsize=(10, 8))\n",
    "plt.bar(r, Accuracy, color='#1F3F49', width=width, edgecolor = 'black', label = 'Accuracy Score')\n",
    "plt.bar(r+width, R2_score, color = '#6AB187', width=width, edgecolor = 'black', label = 'R2 Score')\n",
    "\n",
    "plt.xlabel('Models Used for Prediction', fontsize=15)\n",
    "plt.ylabel('Performance Score', fontsize=15)\n",
    "plt.title('Performance Test Score', fontsize=15)\n",
    "\n",
    "plt.tick_params(axis='x', labelrotation=45)\n",
    "plt.xticks(r+width/2, Model)\n",
    "plt.legend()\n",
    "  \n",
    "plt.show()"
   ]
  },
  {
   "cell_type": "code",
   "execution_count": null,
   "metadata": {},
   "outputs": [],
   "source": []
  },
  {
   "cell_type": "markdown",
   "metadata": {},
   "source": [
    "### Validation"
   ]
  },
  {
   "cell_type": "code",
   "execution_count": 57,
   "metadata": {
    "scrolled": true
   },
   "outputs": [
    {
     "data": {
      "text/html": [
       "<div>\n",
       "<style scoped>\n",
       "    .dataframe tbody tr th:only-of-type {\n",
       "        vertical-align: middle;\n",
       "    }\n",
       "\n",
       "    .dataframe tbody tr th {\n",
       "        vertical-align: top;\n",
       "    }\n",
       "\n",
       "    .dataframe thead th {\n",
       "        text-align: right;\n",
       "    }\n",
       "</style>\n",
       "<table border=\"1\" class=\"dataframe\">\n",
       "  <thead>\n",
       "    <tr style=\"text-align: right;\">\n",
       "      <th></th>\n",
       "      <th>num_market_pairs</th>\n",
       "      <th>total_supply</th>\n",
       "      <th>cmc_rank</th>\n",
       "      <th>market_cap</th>\n",
       "      <th>percent_change_1h</th>\n",
       "      <th>percent_change_24h</th>\n",
       "      <th>percent_change_7d</th>\n",
       "      <th>percent_change_30d</th>\n",
       "      <th>percent_change_60d</th>\n",
       "      <th>percent_change_90d</th>\n",
       "      <th>names</th>\n",
       "      <th>last_dates</th>\n",
       "    </tr>\n",
       "  </thead>\n",
       "  <tbody>\n",
       "    <tr>\n",
       "      <th>0</th>\n",
       "      <td>7</td>\n",
       "      <td>2.222952e+08</td>\n",
       "      <td>100</td>\n",
       "      <td>5.904653e+08</td>\n",
       "      <td>-0.017046</td>\n",
       "      <td>17.021114</td>\n",
       "      <td>-9.940169</td>\n",
       "      <td>-28.465783</td>\n",
       "      <td>-44.956713</td>\n",
       "      <td>289.464181</td>\n",
       "      <td>109.0</td>\n",
       "      <td>0.0</td>\n",
       "    </tr>\n",
       "    <tr>\n",
       "      <th>1</th>\n",
       "      <td>9545</td>\n",
       "      <td>1.869198e+07</td>\n",
       "      <td>1</td>\n",
       "      <td>7.245739e+11</td>\n",
       "      <td>-0.652594</td>\n",
       "      <td>7.768104</td>\n",
       "      <td>-5.438222</td>\n",
       "      <td>-3.829042</td>\n",
       "      <td>7.811478</td>\n",
       "      <td>67.712762</td>\n",
       "      <td>13.0</td>\n",
       "      <td>0.0</td>\n",
       "    </tr>\n",
       "    <tr>\n",
       "      <th>2</th>\n",
       "      <td>6311</td>\n",
       "      <td>1.156305e+08</td>\n",
       "      <td>2</td>\n",
       "      <td>2.068818e+11</td>\n",
       "      <td>-1.638071</td>\n",
       "      <td>7.346893</td>\n",
       "      <td>12.053015</td>\n",
       "      <td>45.260743</td>\n",
       "      <td>55.454594</td>\n",
       "      <td>87.123173</td>\n",
       "      <td>40.0</td>\n",
       "      <td>0.0</td>\n",
       "    </tr>\n",
       "    <tr>\n",
       "      <th>3</th>\n",
       "      <td>579</td>\n",
       "      <td>1.694329e+08</td>\n",
       "      <td>3</td>\n",
       "      <td>5.917943e+10</td>\n",
       "      <td>-0.505596</td>\n",
       "      <td>5.898505</td>\n",
       "      <td>3.354161</td>\n",
       "      <td>102.262526</td>\n",
       "      <td>115.035977</td>\n",
       "      <td>1201.560300</td>\n",
       "      <td>10.0</td>\n",
       "      <td>0.0</td>\n",
       "    </tr>\n",
       "    <tr>\n",
       "      <th>4</th>\n",
       "      <td>664</td>\n",
       "      <td>9.999083e+10</td>\n",
       "      <td>4</td>\n",
       "      <td>4.312739e+10</td>\n",
       "      <td>2.334920</td>\n",
       "      <td>20.477127</td>\n",
       "      <td>-5.642643</td>\n",
       "      <td>136.924109</td>\n",
       "      <td>183.249433</td>\n",
       "      <td>395.755705</td>\n",
       "      <td>113.0</td>\n",
       "      <td>0.0</td>\n",
       "    </tr>\n",
       "  </tbody>\n",
       "</table>\n",
       "</div>"
      ],
      "text/plain": [
       "   num_market_pairs  total_supply  cmc_rank    market_cap  percent_change_1h  \\\n",
       "0                 7  2.222952e+08       100  5.904653e+08          -0.017046   \n",
       "1              9545  1.869198e+07         1  7.245739e+11          -0.652594   \n",
       "2              6311  1.156305e+08         2  2.068818e+11          -1.638071   \n",
       "3               579  1.694329e+08         3  5.917943e+10          -0.505596   \n",
       "4               664  9.999083e+10         4  4.312739e+10           2.334920   \n",
       "\n",
       "   percent_change_24h  percent_change_7d  percent_change_30d  \\\n",
       "0           17.021114          -9.940169          -28.465783   \n",
       "1            7.768104          -5.438222           -3.829042   \n",
       "2            7.346893          12.053015           45.260743   \n",
       "3            5.898505           3.354161          102.262526   \n",
       "4           20.477127          -5.642643          136.924109   \n",
       "\n",
       "   percent_change_60d  percent_change_90d  names  last_dates  \n",
       "0          -44.956713          289.464181  109.0         0.0  \n",
       "1            7.811478           67.712762   13.0         0.0  \n",
       "2           55.454594           87.123173   40.0         0.0  \n",
       "3          115.035977         1201.560300   10.0         0.0  \n",
       "4          183.249433          395.755705  113.0         0.0  "
      ]
     },
     "execution_count": 57,
     "metadata": {},
     "output_type": "execute_result"
    }
   ],
   "source": [
    "X_valid = pd.read_csv('X input Variables.csv').drop(columns='Unnamed: 0')\n",
    "X_valid.head()"
   ]
  },
  {
   "cell_type": "code",
   "execution_count": 58,
   "metadata": {},
   "outputs": [],
   "source": [
    "X_validate = trans.fit_transform(X_valid)"
   ]
  },
  {
   "cell_type": "code",
   "execution_count": 59,
   "metadata": {},
   "outputs": [
    {
     "data": {
      "text/plain": [
       "array([[-0.26556795, -0.06836878,  1.71475615, ..., -0.06524027,\n",
       "         1.49524187, -1.53413172],\n",
       "       [ 5.50842621, -0.06837179, -1.71481464, ..., -0.07945634,\n",
       "        -1.33308061, -1.53413172],\n",
       "       [ 3.55066807, -0.06837035, -1.68017251, ..., -0.07821198,\n",
       "        -0.53761491, -1.53413172],\n",
       "       ...,\n",
       "       [-0.22077076, -0.06824047,  1.64547189, ..., -0.08643125,\n",
       "         0.61139109,  2.25679369],\n",
       "       [-0.23227274, -0.06822438,  1.68011402, ..., -0.0689612 ,\n",
       "        -1.59823584,  2.25679369],\n",
       "       [-0.22077076, -0.06836049,  1.71475615, ..., -0.0837972 ,\n",
       "        -0.36084476,  2.25679369]])"
      ]
     },
     "execution_count": 59,
     "metadata": {},
     "output_type": "execute_result"
    }
   ],
   "source": [
    "X_validate"
   ]
  },
  {
   "cell_type": "code",
   "execution_count": 60,
   "metadata": {},
   "outputs": [],
   "source": [
    "Y = pd.read_csv('Y target varibels.csv', names=['price'])"
   ]
  },
  {
   "cell_type": "code",
   "execution_count": 61,
   "metadata": {},
   "outputs": [],
   "source": [
    "Y = np.log(Y)"
   ]
  },
  {
   "cell_type": "code",
   "execution_count": 62,
   "metadata": {
    "scrolled": true
   },
   "outputs": [
    {
     "data": {
      "text/html": [
       "<div>\n",
       "<style scoped>\n",
       "    .dataframe tbody tr th:only-of-type {\n",
       "        vertical-align: middle;\n",
       "    }\n",
       "\n",
       "    .dataframe tbody tr th {\n",
       "        vertical-align: top;\n",
       "    }\n",
       "\n",
       "    .dataframe thead th {\n",
       "        text-align: right;\n",
       "    }\n",
       "</style>\n",
       "<table border=\"1\" class=\"dataframe\">\n",
       "  <thead>\n",
       "    <tr style=\"text-align: right;\">\n",
       "      <th></th>\n",
       "      <th>price</th>\n",
       "    </tr>\n",
       "  </thead>\n",
       "  <tbody>\n",
       "    <tr>\n",
       "      <th>0</th>\n",
       "      <td>0.976905</td>\n",
       "    </tr>\n",
       "    <tr>\n",
       "      <th>1</th>\n",
       "      <td>10.565244</td>\n",
       "    </tr>\n",
       "    <tr>\n",
       "      <th>2</th>\n",
       "      <td>7.489503</td>\n",
       "    </tr>\n",
       "    <tr>\n",
       "      <th>3</th>\n",
       "      <td>5.955066</td>\n",
       "    </tr>\n",
       "    <tr>\n",
       "      <th>4</th>\n",
       "      <td>-0.051442</td>\n",
       "    </tr>\n",
       "  </tbody>\n",
       "</table>\n",
       "</div>"
      ],
      "text/plain": [
       "       price\n",
       "0   0.976905\n",
       "1  10.565244\n",
       "2   7.489503\n",
       "3   5.955066\n",
       "4  -0.051442"
      ]
     },
     "execution_count": 62,
     "metadata": {},
     "output_type": "execute_result"
    }
   ],
   "source": [
    "Y.head()"
   ]
  },
  {
   "cell_type": "markdown",
   "metadata": {},
   "source": [
    "### Random Forest"
   ]
  },
  {
   "cell_type": "code",
   "execution_count": 63,
   "metadata": {},
   "outputs": [
    {
     "name": "stdout",
     "output_type": "stream",
     "text": [
      "MAE: 6.849736371683743\n",
      "MSE: 61.37573768233968\n",
      "RMSE: 7.83426688863353\n",
      "R2_score: -4.079984177327062\n"
     ]
    }
   ],
   "source": [
    "y_rfr_pred_ = rfr_model.predict(X_validate)\n",
    "print('MAE: {}'.format(metrics.mean_absolute_error(Y, y_rfr_pred_)))\n",
    "print('MSE: {}'.format(metrics.mean_squared_error(Y, y_rfr_pred_)))\n",
    "print('RMSE: {}'.format(np.sqrt(metrics.mean_squared_error(Y, y_rfr_pred_))))\n",
    "print('R2_score: {}'.format(r2_score(Y, y_rfr_pred_)))\n",
    "#print('__________________________________________\\n')\n",
    "#print('Accuracy on train data: {}'.format(rfr_model.score(X_train, y_train)))\n",
    "#print('Accuracy on test data: {}'.format(rfr_model.score(X_test, y_test)))\"\"\""
   ]
  },
  {
   "cell_type": "code",
   "execution_count": 64,
   "metadata": {},
   "outputs": [
    {
     "data": {
      "text/plain": [
       "array([ 0.2549249 ,  9.63602271,  9.637076  , ..., 10.50614641,\n",
       "        7.97506647, 10.58672267])"
      ]
     },
     "execution_count": 64,
     "metadata": {},
     "output_type": "execute_result"
    }
   ],
   "source": [
    "y_rfr_pred_"
   ]
  },
  {
   "cell_type": "code",
   "execution_count": 77,
   "metadata": {},
   "outputs": [
    {
     "data": {
      "text/plain": [
       "[<matplotlib.lines.Line2D at 0x20811a63f48>]"
      ]
     },
     "execution_count": 77,
     "metadata": {},
     "output_type": "execute_result"
    },
    {
     "data": {
      "image/png": "[encoded data removed]",
      "text/plain": [
       "<Figure size 432x288 with 1 Axes>"
      ]
     },
     "metadata": {},
     "output_type": "display_data"
    }
   ],
   "source": [
    "plt.plot(y_rfr_pred_, y_rfr_pred_)\n",
    "plt.plot(Y, Y)"
   ]
  },
  {
   "cell_type": "markdown",
   "metadata": {},
   "source": [
    "### KNeighbor Regressors"
   ]
  },
  {
   "cell_type": "code",
   "execution_count": 65,
   "metadata": {},
   "outputs": [
    {
     "name": "stdout",
     "output_type": "stream",
     "text": [
      "MAE: 1.8449953996176516\n",
      "MSE: 8.375491960762908\n",
      "RMSE: 2.8940442223233056\n",
      "R2_score: 0.30677221578636604\n"
     ]
    }
   ],
   "source": [
    "y_knr_pred_ = knr_model.predict(X_validate)\n",
    "\n",
    "print('MAE: {}'.format(metrics.mean_absolute_error(Y, y_knr_pred_)))\n",
    "print('MSE: {}'.format(metrics.mean_squared_error(Y, y_knr_pred_)))\n",
    "print('RMSE: {}'.format(np.sqrt(metrics.mean_squared_error(Y, y_knr_pred_))))\n",
    "print('R2_score: {}'.format(r2_score(Y, y_knr_pred_)))\n",
    "#print('__________________________________________\\n')\n",
    "#print('Accuracy on train data: {}'.format(knr_model.score(X_train, y_train)))\n",
    "#print('Accuracy on test data: {}'.format(knr_model.score(X_test, y_test)))"
   ]
  },
  {
   "cell_type": "code",
   "execution_count": 67,
   "metadata": {},
   "outputs": [
    {
     "data": {
      "text/plain": [
       "array([[ 0.89028084],\n",
       "       [10.60855249],\n",
       "       [ 7.19495643],\n",
       "       ...,\n",
       "       [-2.66376476],\n",
       "       [-2.57192074],\n",
       "       [-0.25463888]])"
      ]
     },
     "execution_count": 67,
     "metadata": {},
     "output_type": "execute_result"
    }
   ],
   "source": [
    "y_knr_pred_"
   ]
  },
  {
   "cell_type": "markdown",
   "metadata": {},
   "source": [
    "### XGBoost"
   ]
  },
  {
   "cell_type": "code",
   "execution_count": 68,
   "metadata": {
    "scrolled": true
   },
   "outputs": [
    {
     "name": "stdout",
     "output_type": "stream",
     "text": [
      "MAE: 6.502905335044065\n",
      "MSE: 57.507030750136266\n",
      "RMSE: 7.583339023816373\n",
      "R2_score: -3.759776702118762\n"
     ]
    }
   ],
   "source": [
    "y_xgbr_pred_ = xgbr_model.predict(X_validate)\n",
    "\n",
    "print('MAE: {}'.format(metrics.mean_absolute_error(Y, y_xgbr_pred_ )))\n",
    "print('MSE: {}'.format(metrics.mean_squared_error(Y, y_xgbr_pred_ )))\n",
    "print('RMSE: {}'.format(np.sqrt(metrics.mean_squared_error(Y, y_xgbr_pred_ ))))\n",
    "print('R2_score: {}'.format(r2_score(Y, y_xgbr_pred_ )))\n",
    "#print('__________________________________________\\n')\n",
    "#print('Accuracy on train data: {}'.format(xgbr_model.score(X_train, y_train)))\n",
    "#print('Accuracy on test data: {}'.format(xgbr_model.score(X_test, y_test)))"
   ]
  },
  {
   "cell_type": "code",
   "execution_count": 70,
   "metadata": {},
   "outputs": [
    {
     "data": {
      "text/plain": [
       "array([10.284561, 10.541168, 10.471878, ..., 10.347383, 10.161487,\n",
       "        9.887204], dtype=float32)"
      ]
     },
     "execution_count": 70,
     "metadata": {},
     "output_type": "execute_result"
    }
   ],
   "source": [
    "y_xgbr_pred_"
   ]
  },
  {
   "cell_type": "markdown",
   "metadata": {},
   "source": [
    "### GBoost"
   ]
  },
  {
   "cell_type": "code",
   "execution_count": 71,
   "metadata": {
    "scrolled": true
   },
   "outputs": [
    {
     "name": "stdout",
     "output_type": "stream",
     "text": [
      "MAE: 5.909015059202113\n",
      "MSE: 43.91205687602096\n",
      "RMSE: 6.626617302668154\n",
      "R2_score: -2.6345396820910163\n"
     ]
    }
   ],
   "source": [
    "y_gbr_pred_ = gbr_model.predict(X_validate)\n",
    "\n",
    "print('MAE: {}'.format(metrics.mean_absolute_error(Y, y_gbr_pred_)))\n",
    "print('MSE: {}'.format(metrics.mean_squared_error(Y, y_gbr_pred_)))\n",
    "print('RMSE: {}'.format(np.sqrt(metrics.mean_squared_error(Y, y_gbr_pred_))))\n",
    "print('R2_score: {}'.format(r2_score(Y, y_gbr_pred_)))\n",
    "#print('__________________________________________\\n')\n",
    "#print('Accuracy on train data: {}'.format(gbr_model.score(X_train, y_train)))\n",
    "#print('Accuracy on test data: {}'.format(gbr_model.score(X_test, y_test)))"
   ]
  },
  {
   "cell_type": "code",
   "execution_count": 78,
   "metadata": {},
   "outputs": [
    {
     "data": {
      "text/plain": [
       "array([ 5.3855813 , 12.38272992, 11.31047101, ...,  6.96789865,\n",
       "        8.15837587,  9.00867777])"
      ]
     },
     "execution_count": 78,
     "metadata": {},
     "output_type": "execute_result"
    }
   ],
   "source": [
    "y_gbr_pred_"
   ]
  },
  {
   "cell_type": "markdown",
   "metadata": {},
   "source": [
    "### Voting "
   ]
  },
  {
   "cell_type": "code",
   "execution_count": 72,
   "metadata": {},
   "outputs": [
    {
     "name": "stdout",
     "output_type": "stream",
     "text": [
      "MAE: 4.562213764544946\n",
      "MSE: 29.147777211880257\n",
      "RMSE: 5.398868141738624\n",
      "R2_score: -1.4125208532232745\n"
     ]
    }
   ],
   "source": [
    "y_vr_pred_ = ereg.predict(X_validate)\n",
    "\n",
    "print('MAE: {}'.format(metrics.mean_absolute_error(Y, y_vr_pred_)))\n",
    "print('MSE: {}'.format(metrics.mean_squared_error(Y, y_vr_pred_)))\n",
    "print('RMSE: {}'.format(np.sqrt(metrics.mean_squared_error(Y, y_vr_pred_))))\n",
    "print('R2_score: {}'.format(r2_score(Y, y_vr_pred_)))\n",
    "#print('__________________________________________\\n')\n",
    "#print('Accuracy on train data: {}'.format(ereg.score(X_train, y_train)))\n",
    "#print('Accuracy on test data: {}'.format(ereg.score(X_test, y_test)))"
   ]
  },
  {
   "cell_type": "code",
   "execution_count": 73,
   "metadata": {},
   "outputs": [
    {
     "data": {
      "text/plain": [
       "array([ 4.18652824, 10.83788863,  9.69958643, ...,  6.2900447 ,\n",
       "        5.86719413,  7.30908845])"
      ]
     },
     "execution_count": 73,
     "metadata": {},
     "output_type": "execute_result"
    }
   ],
   "source": [
    "y_vr_pred_"
   ]
  },
  {
   "cell_type": "code",
   "execution_count": null,
   "metadata": {},
   "outputs": [],
   "source": []
  }
 ],
 "metadata": {
  "kernelspec": {
   "display_name": "Python 3",
   "language": "python",
   "name": "python3"
  },
  "language_info": {
   "codemirror_mode": {
    "name": "ipython",
    "version": 3
   },
   "file_extension": ".py",
   "mimetype": "text/x-python",
   "name": "python",
   "nbconvert_exporter": "python",
   "pygments_lexer": "ipython3",
   "version": "3.7.3"
  }
 },
 "nbformat": 4,
 "nbformat_minor": 4
}
